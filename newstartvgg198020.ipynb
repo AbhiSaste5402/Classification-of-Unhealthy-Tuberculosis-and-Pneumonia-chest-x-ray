{
  "cells": [
    {
      "cell_type": "code",
      "execution_count": null,
      "metadata": {
        "id": "M-GOAQA8JbMC"
      },
      "outputs": [],
      "source": [
        "import numpy as np # linear algebra\n",
        "import pandas as pd # data processing, CSV file I/O (e.g. pd.read_csv)\n",
        "import matplotlib.pyplot as plt\n",
        "import os\n",
        "import seaborn as sns\n",
        "%matplotlib inline\n",
        "import glob\n",
        "import PIL\n",
        "from sklearn.model_selection import train_test_split\n",
        "from sklearn import svm\n",
        "from sklearn.model_selection import GridSearchCV\n",
        "import tensorflow as tf\n",
        "from keras import regularizers\n",
        "from keras.callbacks import EarlyStopping\n",
        "from keras.models import Model\n",
        "from keras.layers import (BatchNormalization, Conv2D, MaxPooling2D, Activation, Flatten, Dropout, Dense, Input)\n",
        "from keras import backend as K"
      ]
    },
    {
      "cell_type": "code",
      "execution_count": null,
      "metadata": {
        "colab": {
          "base_uri": "https://localhost:8080/"
        },
        "id": "76R6YTERJnc5",
        "outputId": "e7058d6b-5a12-4dea-935f-c82c67cd826d"
      },
      "outputs": [
        {
          "name": "stdout",
          "output_type": "stream",
          "text": [
            "Looking in indexes: https://pypi.org/simple, https://us-python.pkg.dev/colab-wheels/public/simple/\n",
            "Requirement already satisfied: keras in /usr/local/lib/python3.7/dist-packages (2.8.0)\n"
          ]
        }
      ],
      "source": [
        "import tensorflow as tf\n",
        "tf.__version__\n",
        "\n",
        "!sudo pip3 install keras"
      ]
    },
    {
      "cell_type": "code",
      "execution_count": null,
      "metadata": {
        "id": "ZE8ioCNoJnfE"
      },
      "outputs": [],
      "source": []
    },
    {
      "cell_type": "code",
      "execution_count": null,
      "metadata": {
        "colab": {
          "base_uri": "https://localhost:8080/"
        },
        "id": "Nfu4bS2RJnhr",
        "outputId": "65612f01-986b-4259-cfa1-e0717c6d74ac"
      },
      "outputs": [
        {
          "name": "stdout",
          "output_type": "stream",
          "text": [
            "Mounted at /content/drive/\n"
          ]
        }
      ],
      "source": [
        "from google.colab import drive\n",
        "drive.mount('/content/drive/')"
      ]
    },
    {
      "cell_type": "code",
      "execution_count": null,
      "metadata": {
        "id": "211XlmF4Jnj4"
      },
      "outputs": [],
      "source": [
        "# pixels range from 0 to 255 so dividing by 255 so value lie between 0 and 1 and ML works best with numbers between 0 and 1.\n",
        "# We split dataset into training and validation category. Model learns from Train data and Model accuracy is checked with Validation data as this is the data model has not train on. (unknown real world image)\n",
        "\n",
        "normal = glob.glob('../content/drive/MyDrive/cleandata/train/NORMAL/*.*')\n",
        "pneumonia = glob.glob('../content/drive/MyDrive/cleandata/train/PNEUMONIA/*.*')\n",
        "tuber = glob.glob('../content/drive/MyDrive/cleandata/train/TURBERCULOSIS/*.*')\n",
        "\n",
        "normal_test = glob.glob('../content/drive/MyDrive/cleandata/test/NORMAL/*.*')\n",
        "pneumonia_test = glob.glob('../content/drive/MyDrive/cleandata/test/PNEUMONIA/*.*')\n",
        "tuber_test = glob.glob('../content/drive/MyDrive/cleandata/test/TURBERCULOSIS/*.*')\n",
        " \n",
        "normal.extend(normal_test)\n",
        "pneumonia.extend(pneumonia_test)\n",
        "tuber.extend(tuber_test)\n",
        "\n",
        "\n",
        "data = []\n",
        "labels = []\n",
        "\n",
        "\n",
        "for i in normal:   \n",
        "    image=tf.keras.preprocessing.image.load_img(i, \n",
        "    target_size= (224,224,3))\n",
        "    image=np.array(image)\n",
        "    data.append(image)\n",
        "    labels.append(0)\n",
        "for i in pneumonia[:566]:   \n",
        "    image=tf.keras.preprocessing.image.load_img(i, \n",
        "    target_size= (224,224,3))\n",
        "    image=np.array(image)\n",
        "    data.append(image)\n",
        "    labels.append(1)\n",
        "for i in tuber[:566]:   \n",
        "    image=tf.keras.preprocessing.image.load_img(i, \n",
        "    target_size= (224,224,3))\n",
        "    image=np.array(image)\n",
        "    data.append(image)\n",
        "    labels.append(2)\n",
        "\n",
        "data = np.array(data)\n",
        "labels = np.array(labels)"
      ]
    },
    {
      "cell_type": "code",
      "execution_count": null,
      "metadata": {
        "id": "VZAgKUxkJnma"
      },
      "outputs": [],
      "source": [
        "X_train, X_test, y_train, y_test = train_test_split(data, labels, test_size=0.20,random_state=42,stratify=labels)\n"
      ]
    },
    {
      "cell_type": "code",
      "execution_count": null,
      "metadata": {
        "id": "fQhpQyeCJno-"
      },
      "outputs": [],
      "source": [
        "def VGGupdated(input_tensor=None, classes=3): \n",
        "    \n",
        "    img_rows, img_cols = 224,224\n",
        "    img_channels = 3\n",
        "    \n",
        "    img_dim = (img_rows, img_cols, img_channels) #224,224,3\n",
        "    \n",
        "    img_input = Input(shape = img_dim) #input from user we want is tis\n",
        "    \n",
        "    \n",
        "    #block1\n",
        "    x = Conv2D(64, (3,3), activation='relu', padding='same', name='block1_conv1')(img_input) #64 filters of 3x3,padding same as we want size of output image ame as input image\n",
        "    x = Conv2D(64, (3,3), activation='relu', padding='same', name='block1_conv2')(x)#relu will replace all the negative values with 0\n",
        "    x = MaxPooling2D((2,2), strides=(2,2), name='block1_pool')(x) #pooling to reduce the image size, strides the window size for scanning\n",
        "    \n",
        "    #block2\n",
        "    x = Conv2D(128, (3,3), activation='relu', padding='same', name='block2_conv1')(x)\n",
        "    x = Conv2D(128, (3,3), activation='relu', padding='same', name='block2_conv2')(x)\n",
        "    x = MaxPooling2D((2,2), strides=(2,2), name='block2_pool')(x) \n",
        "    \n",
        "    #block3\n",
        "    x = Conv2D(256, (3,3), activation='relu', padding='same', name='block3_conv1')(x)\n",
        "    x = Conv2D(256, (3,3), activation='relu', padding='same', name='block3_conv2')(x)\n",
        "    x = Conv2D(256, (3,3), activation='relu', padding='same', name='block3_conv3')(x)\n",
        "    x = Conv2D(256, (3,3), activation='relu', padding='same', name='block3_conv4')(x)\n",
        "\n",
        "    x = MaxPooling2D((2,2), strides=(2,2), name='block3_pool')(x)\n",
        "    \n",
        "    #block4\n",
        "    x = Conv2D(512, (3,3), activation='relu', padding='same', name='block4_conv1')(x)\n",
        "    x = Conv2D(512, (3,3), activation='relu', padding='same', name='block4_conv2')(x)\n",
        "    x = Conv2D(512, (3,3), activation='relu', padding='same', name='block4_conv3')(x)\n",
        "    x = Conv2D(512, (3,3), activation='relu', padding='same', name='block4_conv4')(x)\n",
        "    x = MaxPooling2D((2,2), strides=(2,2), name='block4_pool')(x)\n",
        "    \n",
        "    #block5\n",
        "    x = Conv2D(512, (3,3), activation='relu', padding='same', name='block5_conv1')(x)\n",
        "    x = Conv2D(512, (3,3), activation='relu', padding='same', name='block5_conv2')(x)\n",
        "    x = Conv2D(512, (3,3), activation='relu', padding='same', name='block5_conv3')(x)\n",
        "    x = Conv2D(512, (3,3), activation='relu', padding='same', name='block5_conv4')(x)\n",
        "    x = MaxPooling2D((2,2), strides=(2,2), name='block5_pool')(x)\n",
        "    \n",
        "    #classification block\n",
        "    x = Flatten(name='flatten')(x) #when we need to classify image we ned to flaten it\n",
        "    x = Dense(4096, activation='relu', name='fc1')(x) #4096 nurons\n",
        "    x = Dense(4096, activation='relu', name='fc2')(x)\n",
        "    x = Dense(1000, activation='relu', name='fc3')(x)\n",
        "    x = Dense(classes, activation='softmax', name='predictions')(x)\n",
        "    \n",
        "    \n",
        "    #create model\n",
        "    model = Model(inputs = img_input, outputs = x, name='vggtuber')\n",
        "    \n",
        "    return model"
      ]
    },
    {
      "cell_type": "code",
      "execution_count": null,
      "metadata": {
        "id": "ZjZN-P3uJnrJ"
      },
      "outputs": [],
      "source": [
        "model = VGGupdated(classes = 3) "
      ]
    },
    {
      "cell_type": "code",
      "execution_count": null,
      "metadata": {
        "id": "VkRz570jJnuL"
      },
      "outputs": [],
      "source": [
        "model.compile(loss='categorical_crossentropy',\n",
        "              optimizer='adam',\n",
        "              metrics=['accuracy'])"
      ]
    },
    {
      "cell_type": "code",
      "execution_count": null,
      "metadata": {
        "colab": {
          "base_uri": "https://localhost:8080/"
        },
        "id": "2SO5AimTKELo",
        "outputId": "8e71cae7-2446-4689-e421-50d653a09511"
      },
      "outputs": [
        {
          "name": "stdout",
          "output_type": "stream",
          "text": [
            "Model: \"vggtuber\"\n",
            "_________________________________________________________________\n",
            " Layer (type)                Output Shape              Param #   \n",
            "=================================================================\n",
            " input_1 (InputLayer)        [(None, 224, 224, 3)]     0         \n",
            "                                                                 \n",
            " block1_conv1 (Conv2D)       (None, 224, 224, 64)      1792      \n",
            "                                                                 \n",
            " block1_conv2 (Conv2D)       (None, 224, 224, 64)      36928     \n",
            "                                                                 \n",
            " block1_pool (MaxPooling2D)  (None, 112, 112, 64)      0         \n",
            "                                                                 \n",
            " block2_conv1 (Conv2D)       (None, 112, 112, 128)     73856     \n",
            "                                                                 \n",
            " block2_conv2 (Conv2D)       (None, 112, 112, 128)     147584    \n",
            "                                                                 \n",
            " block2_pool (MaxPooling2D)  (None, 56, 56, 128)       0         \n",
            "                                                                 \n",
            " block3_conv1 (Conv2D)       (None, 56, 56, 256)       295168    \n",
            "                                                                 \n",
            " block3_conv2 (Conv2D)       (None, 56, 56, 256)       590080    \n",
            "                                                                 \n",
            " block3_conv3 (Conv2D)       (None, 56, 56, 256)       590080    \n",
            "                                                                 \n",
            " block3_conv4 (Conv2D)       (None, 56, 56, 256)       590080    \n",
            "                                                                 \n",
            " block3_pool (MaxPooling2D)  (None, 28, 28, 256)       0         \n",
            "                                                                 \n",
            " block4_conv1 (Conv2D)       (None, 28, 28, 512)       1180160   \n",
            "                                                                 \n",
            " block4_conv2 (Conv2D)       (None, 28, 28, 512)       2359808   \n",
            "                                                                 \n",
            " block4_conv3 (Conv2D)       (None, 28, 28, 512)       2359808   \n",
            "                                                                 \n",
            " block4_conv4 (Conv2D)       (None, 28, 28, 512)       2359808   \n",
            "                                                                 \n",
            " block4_pool (MaxPooling2D)  (None, 14, 14, 512)       0         \n",
            "                                                                 \n",
            " block5_conv1 (Conv2D)       (None, 14, 14, 512)       2359808   \n",
            "                                                                 \n",
            " block5_conv2 (Conv2D)       (None, 14, 14, 512)       2359808   \n",
            "                                                                 \n",
            " block5_conv3 (Conv2D)       (None, 14, 14, 512)       2359808   \n",
            "                                                                 \n",
            " block5_conv4 (Conv2D)       (None, 14, 14, 512)       2359808   \n",
            "                                                                 \n",
            " block5_pool (MaxPooling2D)  (None, 7, 7, 512)         0         \n",
            "                                                                 \n",
            " flatten (Flatten)           (None, 25088)             0         \n",
            "                                                                 \n",
            " fc1 (Dense)                 (None, 4096)              102764544 \n",
            "                                                                 \n",
            " fc2 (Dense)                 (None, 4096)              16781312  \n",
            "                                                                 \n",
            " fc3 (Dense)                 (None, 1000)              4097000   \n",
            "                                                                 \n",
            " predictions (Dense)         (None, 3)                 3003      \n",
            "                                                                 \n",
            "=================================================================\n",
            "Total params: 143,670,243\n",
            "Trainable params: 143,670,243\n",
            "Non-trainable params: 0\n",
            "_________________________________________________________________\n"
          ]
        }
      ],
      "source": [
        "model.summary()"
      ]
    },
    {
      "cell_type": "code",
      "execution_count": null,
      "metadata": {
        "id": "fLia4ueoKEOL"
      },
      "outputs": [],
      "source": [
        "y_train_vgg19 = tf.keras.utils.to_categorical(y_train,3)\n",
        "y_test_vgg19 = tf.keras.utils.to_categorical(y_test,3)"
      ]
    },
    {
      "cell_type": "code",
      "execution_count": null,
      "metadata": {
        "colab": {
          "base_uri": "https://localhost:8080/"
        },
        "id": "aL090X8NKEQs",
        "outputId": "f0c83397-12a5-4ba1-c137-9aa5e0f9e4fc"
      },
      "outputs": [
        {
          "data": {
            "text/plain": [
              "array([[0., 0., 1.],\n",
              "       [0., 1., 0.],\n",
              "       [1., 0., 0.],\n",
              "       ...,\n",
              "       [1., 0., 0.],\n",
              "       [1., 0., 0.],\n",
              "       [0., 0., 1.]], dtype=float32)"
            ]
          },
          "execution_count": 15,
          "metadata": {},
          "output_type": "execute_result"
        }
      ],
      "source": [
        "y_train_vgg19"
      ]
    },
    {
      "cell_type": "code",
      "execution_count": null,
      "metadata": {
        "id": "JnxtwvhEKESz"
      },
      "outputs": [],
      "source": [
        "X_train = tf.expand_dims(X_train,axis=-1)"
      ]
    },
    {
      "cell_type": "code",
      "execution_count": null,
      "metadata": {
        "colab": {
          "base_uri": "https://localhost:8080/"
        },
        "id": "H9nJaswvKEVG",
        "outputId": "50161cbf-9c3a-484f-ceae-8b77b3ebcbdf"
      },
      "outputs": [
        {
          "data": {
            "text/plain": [
              "(2165, 3)"
            ]
          },
          "execution_count": 17,
          "metadata": {},
          "output_type": "execute_result"
        }
      ],
      "source": [
        "y_train_vgg19.shape"
      ]
    },
    {
      "cell_type": "code",
      "execution_count": null,
      "metadata": {
        "id": "zV2289-LKEXS"
      },
      "outputs": [],
      "source": [
        "X_test = tf.expand_dims(X_test,axis=-1)"
      ]
    },
    {
      "cell_type": "code",
      "execution_count": null,
      "metadata": {
        "colab": {
          "base_uri": "https://localhost:8080/"
        },
        "id": "VEH5_AMYMYQR",
        "outputId": "8d5011d5-7d11-4c45-ad17-d32bbf2f4fe6"
      },
      "outputs": [
        {
          "data": {
            "text/plain": [
              "TensorShape([542, 224, 224, 3, 1])"
            ]
          },
          "execution_count": 19,
          "metadata": {},
          "output_type": "execute_result"
        }
      ],
      "source": [
        "X_test.shape"
      ]
    },
    {
      "cell_type": "code",
      "execution_count": null,
      "metadata": {
        "id": "SkJg7eOaM7fI"
      },
      "outputs": [],
      "source": [
        "checkpointer = EarlyStopping(monitor = 'val_accuracy', verbose = 1, restore_best_weights=True,mode=\"max\",patience = 8)\n",
        "# checkpointer to monitor accuracy and preventing overfit\n",
        "# if validation accuracy do not imporve for 15 turns the training will stop."
      ]
    },
    {
      "cell_type": "code",
      "execution_count": null,
      "metadata": {
        "colab": {
          "base_uri": "https://localhost:8080/"
        },
        "id": "ogBrUMtqMYSo",
        "outputId": "0bbade84-df12-4b10-cae4-6e13bcedecb6"
      },
      "outputs": [
        {
          "output_type": "stream",
          "name": "stdout",
          "text": [
            "Epoch 1/20\n",
            "55/55 [==============================] - 373s 7s/step - loss: 2328.6323 - accuracy: 0.5710 - val_loss: 0.9965 - val_accuracy: 0.5727\n",
            "Epoch 2/20\n",
            "55/55 [==============================] - 375s 7s/step - loss: 1.5755 - accuracy: 0.5762 - val_loss: 1.0065 - val_accuracy: 0.5727\n",
            "Epoch 3/20\n",
            "55/55 [==============================] - 372s 7s/step - loss: 1.0048 - accuracy: 0.5837 - val_loss: 0.9806 - val_accuracy: 0.5727\n",
            "Epoch 4/20\n",
            "55/55 [==============================] - 367s 7s/step - loss: 0.9867 - accuracy: 0.5768 - val_loss: 0.9797 - val_accuracy: 0.5727\n",
            "Epoch 5/20\n",
            "55/55 [==============================] - 368s 7s/step - loss: 0.9722 - accuracy: 0.5837 - val_loss: 0.9838 - val_accuracy: 0.5727\n",
            "Epoch 6/20\n",
            "55/55 [==============================] - 369s 7s/step - loss: 0.9712 - accuracy: 0.5837 - val_loss: 0.9800 - val_accuracy: 0.5727\n",
            "Epoch 7/20\n",
            "55/55 [==============================] - 366s 7s/step - loss: 0.9723 - accuracy: 0.5837 - val_loss: 0.9811 - val_accuracy: 0.5727\n",
            "Epoch 8/20\n",
            "55/55 [==============================] - 367s 7s/step - loss: 0.9690 - accuracy: 0.5837 - val_loss: 32.6722 - val_accuracy: 0.5727\n",
            "Epoch 9/20\n",
            "55/55 [==============================] - ETA: 0s - loss: 1.5612 - accuracy: 0.5722Restoring model weights from the end of the best epoch: 1.\n",
            "55/55 [==============================] - 367s 7s/step - loss: 1.5612 - accuracy: 0.5722 - val_loss: 0.9789 - val_accuracy: 0.5727\n",
            "Epoch 9: early stopping\n"
          ]
        }
      ],
      "source": [
        "history = model.fit(\n",
        "            X_train,\n",
        "            y_train_vgg19,\n",
        "            epochs=20,\n",
        "            verbose=1,\n",
        "            validation_split= 0.2,\n",
        "            callbacks = [checkpointer])"
      ]
    },
    {
      "cell_type": "code",
      "execution_count": null,
      "metadata": {
        "id": "zZU15thfMYVD",
        "colab": {
          "base_uri": "https://localhost:8080/"
        },
        "outputId": "cc962ec1-4061-4210-f54a-dc928aacdc9a"
      },
      "outputs": [
        {
          "output_type": "stream",
          "name": "stdout",
          "text": [
            "68/68 [==============================] - 79s 1s/step - loss: 0.9832 - accuracy: 0.5815\n",
            "Final Train accuracy = 58.15242528915405%\n",
            "17/17 [==============================] - 20s 1s/step - loss: 0.9811 - accuracy: 0.5830\n",
            "Validation accuracy = 58.30258131027222%\n"
          ]
        }
      ],
      "source": [
        "print(f\"Final Train accuracy = {model.evaluate(X_train,y_train_vgg19)[1]*100}%\")\n",
        "print(f\"Validation accuracy = {model.evaluate(X_test,y_test_vgg19)[1]*100}%\")"
      ]
    },
    {
      "cell_type": "code",
      "execution_count": null,
      "metadata": {
        "id": "XZ45zS3rMYZ_",
        "colab": {
          "base_uri": "https://localhost:8080/",
          "height": 549
        },
        "outputId": "921bcdf6-6c2b-4ba2-f474-ef114ce35821"
      },
      "outputs": [
        {
          "data": {
            "image/png": "[encoded data removed]",
            "text/plain": [
              "<Figure size 432x288 with 1 Axes>"
            ]
          },
          "metadata": {},
          "output_type": "display_data"
        },
        {
          "output_type": "display_data",
          "data": {
            "text/plain": [
              "<Figure size 432x288 with 1 Axes>"
            ],
            "image/png": "[encoded data removed]"
          },
          "metadata": {
            "needs_background": "light"
          }
        }
      ],
      "source": [
        "training_accuracy = history.history['accuracy']\n",
        "val_accuracy = history.history['val_accuracy']\n",
        "\n",
        "# Create count of the number of epochs\n",
        "epoch_count = range(1, len(training_accuracy) + 1)\n",
        "\n",
        "# Visualize loss history\n",
        "\n",
        "plt.plot(epoch_count, training_accuracy, 'r--')\n",
        "plt.plot(epoch_count, val_accuracy, 'b-')\n",
        "plt.legend(['Training Accuracy', 'Val Accuracy'])\n",
        "plt.xlabel('Epoch')\n",
        "plt.ylabel('Accuracy')\n",
        "plt.ylim(top = 1)\n",
        "plt.show()"
      ]
    },
    {
      "cell_type": "code",
      "execution_count": null,
      "metadata": {
        "id": "ldLWFKakMYcn"
      },
      "outputs": [],
      "source": []
    }
  ],
  "metadata": {
    "accelerator": "TPU",
    "colab": {
      "background_execution": "on",
      "machine_shape": "hm",
      "provenance": [],
      "collapsed_sections": [],
      "authorship_tag": "ABX9TyMzuYGTa8mYbSdTKgJu/F6j"
    },
    "gpuClass": "standard",
    "kernelspec": {
      "display_name": "Python 3",
      "name": "python3"
    },
    "language_info": {
      "name": "python"
    }
  },
  "nbformat": 4,
  "nbformat_minor": 0
}