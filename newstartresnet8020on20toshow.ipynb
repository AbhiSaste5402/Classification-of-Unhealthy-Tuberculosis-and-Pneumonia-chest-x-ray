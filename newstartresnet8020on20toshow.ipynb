{
  "cells": [
    {
      "cell_type": "code",
      "execution_count": null,
      "metadata": {
        "id": "sgIBsdKLbMzA"
      },
      "outputs": [],
      "source": [
        "import numpy as np\n",
        "from keras import layers, backend\n",
        "from keras.layers import Input, Add, Dense, Activation, ZeroPadding2D, BatchNormalization, Flatten, Conv2D, AveragePooling2D, MaxPooling2D, GlobalMaxPooling2D, GlobalAveragePooling2D\n",
        "from keras.models import Model, load_model\n",
        "from keras.preprocessing import image\n",
        "from keras.utils import layer_utils\n",
        "from keras import utils as np_utils\n",
        "from keras.utils.data_utils import get_file\n",
        "from keras.applications.imagenet_utils import preprocess_input\n",
        "import pydot\n",
        "from IPython.display import SVG\n",
        "from keras.utils.vis_utils import model_to_dot\n",
        "from keras.utils.vis_utils import plot_model\n",
        "from keras.initializers import glorot_uniform \n",
        "import scipy.misc\n",
        "from matplotlib.pyplot import imshow\n",
        "from keras.initializers import glorot_uniform\n",
        "from tensorflow import keras\n",
        "from keras.applications import imagenet_utils\n",
        "import tensorflow as tf\n",
        "\n",
        "import matplotlib.pyplot as plt\n",
        "import numpy as np\n",
        "import warnings\n",
        "import glob\n",
        "from sklearn.model_selection import train_test_split\n",
        "from tensorflow.keras.callbacks import EarlyStopping"
      ]
    },
    {
      "cell_type": "code",
      "execution_count": null,
      "metadata": {
        "colab": {
          "base_uri": "https://localhost:8080/"
        },
        "id": "O5sJSgI8bRBQ",
        "outputId": "d494b51b-2c9c-412b-afb2-8d6747dd31cb"
      },
      "outputs": [
        {
          "output_type": "stream",
          "name": "stdout",
          "text": [
            "Looking in indexes: https://pypi.org/simple, https://us-python.pkg.dev/colab-wheels/public/simple/\n",
            "Requirement already satisfied: keras in /usr/local/lib/python3.7/dist-packages (2.8.0)\n"
          ]
        }
      ],
      "source": [
        "import tensorflow as tf\n",
        "tf.__version__\n",
        "\n",
        "!sudo pip3 install keras"
      ]
    },
    {
      "cell_type": "code",
      "execution_count": null,
      "metadata": {
        "id": "-1JHJZw7bRDw"
      },
      "outputs": [],
      "source": [
        "from tensorflow.keras.layers import Layer, InputSpec"
      ]
    },
    {
      "cell_type": "code",
      "execution_count": null,
      "metadata": {
        "colab": {
          "base_uri": "https://localhost:8080/"
        },
        "id": "hCSi9dV1bRF5",
        "outputId": "431baab5-1825-4a94-b9b7-0a985f44b850"
      },
      "outputs": [
        {
          "output_type": "stream",
          "name": "stdout",
          "text": [
            "Mounted at /content/drive/\n"
          ]
        }
      ],
      "source": [
        "from google.colab import drive\n",
        "drive.mount('/content/drive/')"
      ]
    },
    {
      "cell_type": "code",
      "execution_count": null,
      "metadata": {
        "id": "UZQoOn56bRI5"
      },
      "outputs": [],
      "source": [
        "# pixels range from 0 to 255 so dividing by 255 so value lie between 0 and 1 and ML works best with numbers between 0 and 1.\n",
        "# We split dataset into training and validation category. Model learns from Train data and Model accuracy is checked with Validation data as this is the data model has not train on. (unknown real world image)\n",
        "\n",
        "normal = glob.glob('../content/drive/MyDrive/cleandata/train/NORMAL/*.*')\n",
        "pneumonia = glob.glob('../content/drive/MyDrive/cleandata/train/PNEUMONIA/*.*')\n",
        "tuber = glob.glob('../content/drive/MyDrive/cleandata/train/TURBERCULOSIS/*.*')\n",
        "\n",
        "normal_test = glob.glob('../content/drive/MyDrive/cleandata/test/NORMAL/*.*')\n",
        "pneumonia_test = glob.glob('../content/drive/MyDrive/cleandata/test/PNEUMONIA/*.*')\n",
        "tuber_test = glob.glob('../content/drive/MyDrive/cleandata/test/TURBERCULOSIS/*.*')\n",
        " \n",
        "normal.extend(normal_test)\n",
        "pneumonia.extend(pneumonia_test)\n",
        "tuber.extend(tuber_test)\n",
        "\n",
        "\n",
        "data = []\n",
        "labels = []\n",
        "\n",
        "\n",
        "for i in normal:   \n",
        "    image=tf.keras.preprocessing.image.load_img(i, \n",
        "    target_size= (224,224,3))\n",
        "    image=np.array(image)\n",
        "    data.append(image)\n",
        "    labels.append(0)\n",
        "for i in pneumonia[:566]:   \n",
        "    image=tf.keras.preprocessing.image.load_img(i,  \n",
        "    target_size= (224,224,3))\n",
        "    image=np.array(image)\n",
        "    data.append(image)\n",
        "    labels.append(1)\n",
        "for i in tuber[:566]:   \n",
        "    image=tf.keras.preprocessing.image.load_img(i, \n",
        "    target_size= (224,224,3))\n",
        "    image=np.array(image)\n",
        "    data.append(image)\n",
        "    labels.append(2)\n",
        "\n",
        "data = np.array(data)\n",
        "labels = np.array(labels)"
      ]
    },
    {
      "cell_type": "code",
      "execution_count": null,
      "metadata": {
        "id": "f91QuVuWbRKe"
      },
      "outputs": [],
      "source": [
        "X_train, X_test, y_train, y_test = train_test_split(data, labels, test_size=0.20,random_state=42,stratify=labels)\n"
      ]
    },
    {
      "cell_type": "code",
      "execution_count": null,
      "metadata": {
        "id": "9Omni5GZbRMr"
      },
      "outputs": [],
      "source": [
        "def identity_block(X, f, filters):\n",
        "  #retrive filters\n",
        "  F1, F2, F3 = filters\n",
        "\n",
        "  X_shortcut = X\n",
        "\n",
        "\n",
        "#first layer\n",
        "  X= Conv2D(filters = F1, kernel_size=(1,1), strides = (1,1), padding = 'same')(X)\n",
        "  X= BatchNormalization(axis=3)(X)\n",
        "  X= Activation('relu')(X)\n",
        "\n",
        "  #second layer\n",
        "  X= Conv2D(filters = F2, kernel_size=(f,f), strides = (1,1), padding = 'same')(X)\n",
        "  X= BatchNormalization(axis=3)(X)\n",
        "  X= Activation('relu')(X)\n",
        "\n",
        "  #third layer\n",
        "  X= Conv2D(filters = F3, kernel_size=(1,1),strides = (1,1), padding = 'same')(X)\n",
        "  X= BatchNormalization(axis=3)(X)\n",
        "\n",
        "\n",
        "  #final step: adding shoetcut value to F(x), and pass it through Relu activation\n",
        "  X= Add()([X, X_shortcut])\n",
        "  X= Activation('relu')(X)\n",
        "\n",
        "  return X\n",
        "           \n",
        "  "
      ]
    },
    {
      "cell_type": "code",
      "execution_count": null,
      "metadata": {
        "id": "EKR4AV1fbRO4"
      },
      "outputs": [],
      "source": [
        "def convolution_block(X, f, filters, s=2):\n",
        "  #retrive filters\n",
        "  F1, F2, F3 = filters\n",
        "#saving the input value\n",
        "  X_shortcut = X\n",
        "\n",
        "#first layer\n",
        "  X= Conv2D(F1, (1,1), strides = (s,s))(X) #1,1 is a filter size\n",
        "  X= BatchNormalization(axis=3)(X)\n",
        "  X= Activation('relu')(X)\n",
        "\n",
        "#second layer (f,f)=3*3 filter by default\n",
        "  X= Conv2D(filters = F2, kernel_size=(f,f), strides = (1,1), padding = 'same')(X)\n",
        "  X= BatchNormalization(axis=3)(X)\n",
        "  X= Activation('relu')(X)\n",
        "\n",
        "#third layer\n",
        "  X= Conv2D(filters = F3, kernel_size=(1,1),strides = (1,1), padding = 'same')(X)\n",
        "  X= BatchNormalization(axis=3)(X)\n",
        "\n",
        "#shortcutpath\n",
        "  X_shortcut= Conv2D(filters = F3, kernel_size=(1,1),strides = (s,s), padding = 'same')(X_shortcut)\n",
        "  X_shortcut= BatchNormalization(axis=3)(X_shortcut)\n",
        "\n",
        "\n",
        "  #final step: adding shoetcut value to F(x), and pass it through Relu activation\n",
        "  X= Add()([X, X_shortcut])\n",
        "  X= Activation('relu')(X)\n",
        "\n",
        "\n",
        "  return X\n",
        "  "
      ]
    },
    {
      "cell_type": "code",
      "execution_count": null,
      "metadata": {
        "id": "jioKkDoybRRP"
      },
      "outputs": [],
      "source": [
        "#from keras.engine.input_layer import InputLayer\n",
        "def ResNet50(input_shape=(224,224,3), classes=3):\n",
        "\n",
        "  \n",
        "  #defining the input with shape input_shape\n",
        "  X_input = Input(input_shape)\n",
        "  #keras.layers.Input(input_shape=(224, 224, 3))\n",
        "  #zero padding\n",
        "  x = ZeroPadding2D((3,3))( X_input) #3,3 padding\n",
        "\n",
        "  #stage1\n",
        "  x= Conv2D(64,(7,7), strides = (2,2))(x) #1,1 is a filter size\n",
        "  x= BatchNormalization(axis=3)(x)\n",
        "  x= Activation('relu')(x)\n",
        "  x= MaxPooling2D((3,3), strides=(2,2))(x)\n",
        "\n",
        "\n",
        "#second layer\n",
        "  x = convolution_block(x, f=3, filters=[64,64,256], s=1)\n",
        "  x = identity_block(x, 3, [64,64,256])\n",
        "  x = identity_block(x, 3, [64,64,256])\n",
        "\n",
        "#third stage\n",
        "  x = convolution_block(x, f=3, filters=[128,128,512], s=2)\n",
        "  x = identity_block(x, 3, [128,128,512])\n",
        "  x = identity_block(x, 3, [128,128,512])  \n",
        "  x = identity_block(x, 3, [128,128,512])\n",
        "\n",
        "#fourth stage\n",
        "  x = convolution_block(x, f=3, filters=[256,256,1024], s=2)\n",
        "  x = identity_block(x, 3, [256,256,1024])\n",
        "  x = identity_block(x, 3, [256,256,1024])  \n",
        "  x = identity_block(x, 3, [256,256,1024])\n",
        "  x = identity_block(x, 3, [256,256,1024])\n",
        "  x = identity_block(x, 3, [256,256,1024])\n",
        "\n",
        "#fifth stage\n",
        "  x = convolution_block(x, f=3, filters=[512,512,2048], s=2)\n",
        "  x = identity_block(x, 3, [512,512,2048])\n",
        "  x = identity_block(x, 3, [512,512,2048])\n",
        "\n",
        "#average pool\n",
        "  x = AveragePooling2D((2,2),name=\"avg_pool\")(x)\n",
        "\n",
        "#output layer\n",
        "  x = Flatten()(x)\n",
        "  x = Dense(classes, activation='softmax',name='fc' + str(classes), kernel_initializer = glorot_uniform(seed=42))(x)\n",
        "\n",
        "#creating a model\n",
        "  model = Model(inputs = X_input, outputs=x, name='ResNet50')\n",
        "\n",
        "  return model\n",
        "\n",
        "\n",
        "\n",
        "\n"
      ]
    },
    {
      "cell_type": "code",
      "execution_count": null,
      "metadata": {
        "id": "Hlo1EqwMbRTc"
      },
      "outputs": [],
      "source": [
        "model = ResNet50(input_shape=(224,224,3), classes=3)"
      ]
    },
    {
      "cell_type": "code",
      "execution_count": null,
      "metadata": {
        "id": "AmO0Sk_HbRVz"
      },
      "outputs": [],
      "source": [
        "model.compile(loss='categorical_crossentropy',\n",
        "              optimizer='adam',\n",
        "              metrics=['accuracy'])"
      ]
    },
    {
      "cell_type": "code",
      "execution_count": null,
      "metadata": {
        "colab": {
          "base_uri": "https://localhost:8080/"
        },
        "id": "mExmZiXmbRYV",
        "outputId": "89d94bc1-deb6-4279-aa36-2c056ac565c2"
      },
      "outputs": [
        {
          "output_type": "stream",
          "name": "stdout",
          "text": [
            "Model: \"ResNet50\"\n",
            "__________________________________________________________________________________________________\n",
            " Layer (type)                   Output Shape         Param #     Connected to                     \n",
            "==================================================================================================\n",
            " input_1 (InputLayer)           [(None, 224, 224, 3  0           []                               \n",
            "                                )]                                                                \n",
            "                                                                                                  \n",
            " zero_padding2d (ZeroPadding2D)  (None, 230, 230, 3)  0          ['input_1[0][0]']                \n",
            "                                                                                                  \n",
            " conv2d (Conv2D)                (None, 112, 112, 64  9472        ['zero_padding2d[0][0]']         \n",
            "                                )                                                                 \n",
            "                                                                                                  \n",
            " batch_normalization (BatchNorm  (None, 112, 112, 64  256        ['conv2d[0][0]']                 \n",
            " alization)                     )                                                                 \n",
            "                                                                                                  \n",
            " activation (Activation)        (None, 112, 112, 64  0           ['batch_normalization[0][0]']    \n",
            "                                )                                                                 \n",
            "                                                                                                  \n",
            " max_pooling2d (MaxPooling2D)   (None, 55, 55, 64)   0           ['activation[0][0]']             \n",
            "                                                                                                  \n",
            " conv2d_1 (Conv2D)              (None, 55, 55, 64)   4160        ['max_pooling2d[0][0]']          \n",
            "                                                                                                  \n",
            " batch_normalization_1 (BatchNo  (None, 55, 55, 64)  256         ['conv2d_1[0][0]']               \n",
            " rmalization)                                                                                     \n",
            "                                                                                                  \n",
            " activation_1 (Activation)      (None, 55, 55, 64)   0           ['batch_normalization_1[0][0]']  \n",
            "                                                                                                  \n",
            " conv2d_2 (Conv2D)              (None, 55, 55, 64)   36928       ['activation_1[0][0]']           \n",
            "                                                                                                  \n",
            " batch_normalization_2 (BatchNo  (None, 55, 55, 64)  256         ['conv2d_2[0][0]']               \n",
            " rmalization)                                                                                     \n",
            "                                                                                                  \n",
            " activation_2 (Activation)      (None, 55, 55, 64)   0           ['batch_normalization_2[0][0]']  \n",
            "                                                                                                  \n",
            " conv2d_3 (Conv2D)              (None, 55, 55, 256)  16640       ['activation_2[0][0]']           \n",
            "                                                                                                  \n",
            " conv2d_4 (Conv2D)              (None, 55, 55, 256)  16640       ['max_pooling2d[0][0]']          \n",
            "                                                                                                  \n",
            " batch_normalization_3 (BatchNo  (None, 55, 55, 256)  1024       ['conv2d_3[0][0]']               \n",
            " rmalization)                                                                                     \n",
            "                                                                                                  \n",
            " batch_normalization_4 (BatchNo  (None, 55, 55, 256)  1024       ['conv2d_4[0][0]']               \n",
            " rmalization)                                                                                     \n",
            "                                                                                                  \n",
            " add (Add)                      (None, 55, 55, 256)  0           ['batch_normalization_3[0][0]',  \n",
            "                                                                  'batch_normalization_4[0][0]']  \n",
            "                                                                                                  \n",
            " activation_3 (Activation)      (None, 55, 55, 256)  0           ['add[0][0]']                    \n",
            "                                                                                                  \n",
            " conv2d_5 (Conv2D)              (None, 55, 55, 64)   16448       ['activation_3[0][0]']           \n",
            "                                                                                                  \n",
            " batch_normalization_5 (BatchNo  (None, 55, 55, 64)  256         ['conv2d_5[0][0]']               \n",
            " rmalization)                                                                                     \n",
            "                                                                                                  \n",
            " activation_4 (Activation)      (None, 55, 55, 64)   0           ['batch_normalization_5[0][0]']  \n",
            "                                                                                                  \n",
            " conv2d_6 (Conv2D)              (None, 55, 55, 64)   36928       ['activation_4[0][0]']           \n",
            "                                                                                                  \n",
            " batch_normalization_6 (BatchNo  (None, 55, 55, 64)  256         ['conv2d_6[0][0]']               \n",
            " rmalization)                                                                                     \n",
            "                                                                                                  \n",
            " activation_5 (Activation)      (None, 55, 55, 64)   0           ['batch_normalization_6[0][0]']  \n",
            "                                                                                                  \n",
            " conv2d_7 (Conv2D)              (None, 55, 55, 256)  16640       ['activation_5[0][0]']           \n",
            "                                                                                                  \n",
            " batch_normalization_7 (BatchNo  (None, 55, 55, 256)  1024       ['conv2d_7[0][0]']               \n",
            " rmalization)                                                                                     \n",
            "                                                                                                  \n",
            " add_1 (Add)                    (None, 55, 55, 256)  0           ['batch_normalization_7[0][0]',  \n",
            "                                                                  'activation_3[0][0]']           \n",
            "                                                                                                  \n",
            " activation_6 (Activation)      (None, 55, 55, 256)  0           ['add_1[0][0]']                  \n",
            "                                                                                                  \n",
            " conv2d_8 (Conv2D)              (None, 55, 55, 64)   16448       ['activation_6[0][0]']           \n",
            "                                                                                                  \n",
            " batch_normalization_8 (BatchNo  (None, 55, 55, 64)  256         ['conv2d_8[0][0]']               \n",
            " rmalization)                                                                                     \n",
            "                                                                                                  \n",
            " activation_7 (Activation)      (None, 55, 55, 64)   0           ['batch_normalization_8[0][0]']  \n",
            "                                                                                                  \n",
            " conv2d_9 (Conv2D)              (None, 55, 55, 64)   36928       ['activation_7[0][0]']           \n",
            "                                                                                                  \n",
            " batch_normalization_9 (BatchNo  (None, 55, 55, 64)  256         ['conv2d_9[0][0]']               \n",
            " rmalization)                                                                                     \n",
            "                                                                                                  \n",
            " activation_8 (Activation)      (None, 55, 55, 64)   0           ['batch_normalization_9[0][0]']  \n",
            "                                                                                                  \n",
            " conv2d_10 (Conv2D)             (None, 55, 55, 256)  16640       ['activation_8[0][0]']           \n",
            "                                                                                                  \n",
            " batch_normalization_10 (BatchN  (None, 55, 55, 256)  1024       ['conv2d_10[0][0]']              \n",
            " ormalization)                                                                                    \n",
            "                                                                                                  \n",
            " add_2 (Add)                    (None, 55, 55, 256)  0           ['batch_normalization_10[0][0]', \n",
            "                                                                  'activation_6[0][0]']           \n",
            "                                                                                                  \n",
            " activation_9 (Activation)      (None, 55, 55, 256)  0           ['add_2[0][0]']                  \n",
            "                                                                                                  \n",
            " conv2d_11 (Conv2D)             (None, 28, 28, 128)  32896       ['activation_9[0][0]']           \n",
            "                                                                                                  \n",
            " batch_normalization_11 (BatchN  (None, 28, 28, 128)  512        ['conv2d_11[0][0]']              \n",
            " ormalization)                                                                                    \n",
            "                                                                                                  \n",
            " activation_10 (Activation)     (None, 28, 28, 128)  0           ['batch_normalization_11[0][0]'] \n",
            "                                                                                                  \n",
            " conv2d_12 (Conv2D)             (None, 28, 28, 128)  147584      ['activation_10[0][0]']          \n",
            "                                                                                                  \n",
            " batch_normalization_12 (BatchN  (None, 28, 28, 128)  512        ['conv2d_12[0][0]']              \n",
            " ormalization)                                                                                    \n",
            "                                                                                                  \n",
            " activation_11 (Activation)     (None, 28, 28, 128)  0           ['batch_normalization_12[0][0]'] \n",
            "                                                                                                  \n",
            " conv2d_13 (Conv2D)             (None, 28, 28, 512)  66048       ['activation_11[0][0]']          \n",
            "                                                                                                  \n",
            " conv2d_14 (Conv2D)             (None, 28, 28, 512)  131584      ['activation_9[0][0]']           \n",
            "                                                                                                  \n",
            " batch_normalization_13 (BatchN  (None, 28, 28, 512)  2048       ['conv2d_13[0][0]']              \n",
            " ormalization)                                                                                    \n",
            "                                                                                                  \n",
            " batch_normalization_14 (BatchN  (None, 28, 28, 512)  2048       ['conv2d_14[0][0]']              \n",
            " ormalization)                                                                                    \n",
            "                                                                                                  \n",
            " add_3 (Add)                    (None, 28, 28, 512)  0           ['batch_normalization_13[0][0]', \n",
            "                                                                  'batch_normalization_14[0][0]'] \n",
            "                                                                                                  \n",
            " activation_12 (Activation)     (None, 28, 28, 512)  0           ['add_3[0][0]']                  \n",
            "                                                                                                  \n",
            " conv2d_15 (Conv2D)             (None, 28, 28, 128)  65664       ['activation_12[0][0]']          \n",
            "                                                                                                  \n",
            " batch_normalization_15 (BatchN  (None, 28, 28, 128)  512        ['conv2d_15[0][0]']              \n",
            " ormalization)                                                                                    \n",
            "                                                                                                  \n",
            " activation_13 (Activation)     (None, 28, 28, 128)  0           ['batch_normalization_15[0][0]'] \n",
            "                                                                                                  \n",
            " conv2d_16 (Conv2D)             (None, 28, 28, 128)  147584      ['activation_13[0][0]']          \n",
            "                                                                                                  \n",
            " batch_normalization_16 (BatchN  (None, 28, 28, 128)  512        ['conv2d_16[0][0]']              \n",
            " ormalization)                                                                                    \n",
            "                                                                                                  \n",
            " activation_14 (Activation)     (None, 28, 28, 128)  0           ['batch_normalization_16[0][0]'] \n",
            "                                                                                                  \n",
            " conv2d_17 (Conv2D)             (None, 28, 28, 512)  66048       ['activation_14[0][0]']          \n",
            "                                                                                                  \n",
            " batch_normalization_17 (BatchN  (None, 28, 28, 512)  2048       ['conv2d_17[0][0]']              \n",
            " ormalization)                                                                                    \n",
            "                                                                                                  \n",
            " add_4 (Add)                    (None, 28, 28, 512)  0           ['batch_normalization_17[0][0]', \n",
            "                                                                  'activation_12[0][0]']          \n",
            "                                                                                                  \n",
            " activation_15 (Activation)     (None, 28, 28, 512)  0           ['add_4[0][0]']                  \n",
            "                                                                                                  \n",
            " conv2d_18 (Conv2D)             (None, 28, 28, 128)  65664       ['activation_15[0][0]']          \n",
            "                                                                                                  \n",
            " batch_normalization_18 (BatchN  (None, 28, 28, 128)  512        ['conv2d_18[0][0]']              \n",
            " ormalization)                                                                                    \n",
            "                                                                                                  \n",
            " activation_16 (Activation)     (None, 28, 28, 128)  0           ['batch_normalization_18[0][0]'] \n",
            "                                                                                                  \n",
            " conv2d_19 (Conv2D)             (None, 28, 28, 128)  147584      ['activation_16[0][0]']          \n",
            "                                                                                                  \n",
            " batch_normalization_19 (BatchN  (None, 28, 28, 128)  512        ['conv2d_19[0][0]']              \n",
            " ormalization)                                                                                    \n",
            "                                                                                                  \n",
            " activation_17 (Activation)     (None, 28, 28, 128)  0           ['batch_normalization_19[0][0]'] \n",
            "                                                                                                  \n",
            " conv2d_20 (Conv2D)             (None, 28, 28, 512)  66048       ['activation_17[0][0]']          \n",
            "                                                                                                  \n",
            " batch_normalization_20 (BatchN  (None, 28, 28, 512)  2048       ['conv2d_20[0][0]']              \n",
            " ormalization)                                                                                    \n",
            "                                                                                                  \n",
            " add_5 (Add)                    (None, 28, 28, 512)  0           ['batch_normalization_20[0][0]', \n",
            "                                                                  'activation_15[0][0]']          \n",
            "                                                                                                  \n",
            " activation_18 (Activation)     (None, 28, 28, 512)  0           ['add_5[0][0]']                  \n",
            "                                                                                                  \n",
            " conv2d_21 (Conv2D)             (None, 28, 28, 128)  65664       ['activation_18[0][0]']          \n",
            "                                                                                                  \n",
            " batch_normalization_21 (BatchN  (None, 28, 28, 128)  512        ['conv2d_21[0][0]']              \n",
            " ormalization)                                                                                    \n",
            "                                                                                                  \n",
            " activation_19 (Activation)     (None, 28, 28, 128)  0           ['batch_normalization_21[0][0]'] \n",
            "                                                                                                  \n",
            " conv2d_22 (Conv2D)             (None, 28, 28, 128)  147584      ['activation_19[0][0]']          \n",
            "                                                                                                  \n",
            " batch_normalization_22 (BatchN  (None, 28, 28, 128)  512        ['conv2d_22[0][0]']              \n",
            " ormalization)                                                                                    \n",
            "                                                                                                  \n",
            " activation_20 (Activation)     (None, 28, 28, 128)  0           ['batch_normalization_22[0][0]'] \n",
            "                                                                                                  \n",
            " conv2d_23 (Conv2D)             (None, 28, 28, 512)  66048       ['activation_20[0][0]']          \n",
            "                                                                                                  \n",
            " batch_normalization_23 (BatchN  (None, 28, 28, 512)  2048       ['conv2d_23[0][0]']              \n",
            " ormalization)                                                                                    \n",
            "                                                                                                  \n",
            " add_6 (Add)                    (None, 28, 28, 512)  0           ['batch_normalization_23[0][0]', \n",
            "                                                                  'activation_18[0][0]']          \n",
            "                                                                                                  \n",
            " activation_21 (Activation)     (None, 28, 28, 512)  0           ['add_6[0][0]']                  \n",
            "                                                                                                  \n",
            " conv2d_24 (Conv2D)             (None, 14, 14, 256)  131328      ['activation_21[0][0]']          \n",
            "                                                                                                  \n",
            " batch_normalization_24 (BatchN  (None, 14, 14, 256)  1024       ['conv2d_24[0][0]']              \n",
            " ormalization)                                                                                    \n",
            "                                                                                                  \n",
            " activation_22 (Activation)     (None, 14, 14, 256)  0           ['batch_normalization_24[0][0]'] \n",
            "                                                                                                  \n",
            " conv2d_25 (Conv2D)             (None, 14, 14, 256)  590080      ['activation_22[0][0]']          \n",
            "                                                                                                  \n",
            " batch_normalization_25 (BatchN  (None, 14, 14, 256)  1024       ['conv2d_25[0][0]']              \n",
            " ormalization)                                                                                    \n",
            "                                                                                                  \n",
            " activation_23 (Activation)     (None, 14, 14, 256)  0           ['batch_normalization_25[0][0]'] \n",
            "                                                                                                  \n",
            " conv2d_26 (Conv2D)             (None, 14, 14, 1024  263168      ['activation_23[0][0]']          \n",
            "                                )                                                                 \n",
            "                                                                                                  \n",
            " conv2d_27 (Conv2D)             (None, 14, 14, 1024  525312      ['activation_21[0][0]']          \n",
            "                                )                                                                 \n",
            "                                                                                                  \n",
            " batch_normalization_26 (BatchN  (None, 14, 14, 1024  4096       ['conv2d_26[0][0]']              \n",
            " ormalization)                  )                                                                 \n",
            "                                                                                                  \n",
            " batch_normalization_27 (BatchN  (None, 14, 14, 1024  4096       ['conv2d_27[0][0]']              \n",
            " ormalization)                  )                                                                 \n",
            "                                                                                                  \n",
            " add_7 (Add)                    (None, 14, 14, 1024  0           ['batch_normalization_26[0][0]', \n",
            "                                )                                 'batch_normalization_27[0][0]'] \n",
            "                                                                                                  \n",
            " activation_24 (Activation)     (None, 14, 14, 1024  0           ['add_7[0][0]']                  \n",
            "                                )                                                                 \n",
            "                                                                                                  \n",
            " conv2d_28 (Conv2D)             (None, 14, 14, 256)  262400      ['activation_24[0][0]']          \n",
            "                                                                                                  \n",
            " batch_normalization_28 (BatchN  (None, 14, 14, 256)  1024       ['conv2d_28[0][0]']              \n",
            " ormalization)                                                                                    \n",
            "                                                                                                  \n",
            " activation_25 (Activation)     (None, 14, 14, 256)  0           ['batch_normalization_28[0][0]'] \n",
            "                                                                                                  \n",
            " conv2d_29 (Conv2D)             (None, 14, 14, 256)  590080      ['activation_25[0][0]']          \n",
            "                                                                                                  \n",
            " batch_normalization_29 (BatchN  (None, 14, 14, 256)  1024       ['conv2d_29[0][0]']              \n",
            " ormalization)                                                                                    \n",
            "                                                                                                  \n",
            " activation_26 (Activation)     (None, 14, 14, 256)  0           ['batch_normalization_29[0][0]'] \n",
            "                                                                                                  \n",
            " conv2d_30 (Conv2D)             (None, 14, 14, 1024  263168      ['activation_26[0][0]']          \n",
            "                                )                                                                 \n",
            "                                                                                                  \n",
            " batch_normalization_30 (BatchN  (None, 14, 14, 1024  4096       ['conv2d_30[0][0]']              \n",
            " ormalization)                  )                                                                 \n",
            "                                                                                                  \n",
            " add_8 (Add)                    (None, 14, 14, 1024  0           ['batch_normalization_30[0][0]', \n",
            "                                )                                 'activation_24[0][0]']          \n",
            "                                                                                                  \n",
            " activation_27 (Activation)     (None, 14, 14, 1024  0           ['add_8[0][0]']                  \n",
            "                                )                                                                 \n",
            "                                                                                                  \n",
            " conv2d_31 (Conv2D)             (None, 14, 14, 256)  262400      ['activation_27[0][0]']          \n",
            "                                                                                                  \n",
            " batch_normalization_31 (BatchN  (None, 14, 14, 256)  1024       ['conv2d_31[0][0]']              \n",
            " ormalization)                                                                                    \n",
            "                                                                                                  \n",
            " activation_28 (Activation)     (None, 14, 14, 256)  0           ['batch_normalization_31[0][0]'] \n",
            "                                                                                                  \n",
            " conv2d_32 (Conv2D)             (None, 14, 14, 256)  590080      ['activation_28[0][0]']          \n",
            "                                                                                                  \n",
            " batch_normalization_32 (BatchN  (None, 14, 14, 256)  1024       ['conv2d_32[0][0]']              \n",
            " ormalization)                                                                                    \n",
            "                                                                                                  \n",
            " activation_29 (Activation)     (None, 14, 14, 256)  0           ['batch_normalization_32[0][0]'] \n",
            "                                                                                                  \n",
            " conv2d_33 (Conv2D)             (None, 14, 14, 1024  263168      ['activation_29[0][0]']          \n",
            "                                )                                                                 \n",
            "                                                                                                  \n",
            " batch_normalization_33 (BatchN  (None, 14, 14, 1024  4096       ['conv2d_33[0][0]']              \n",
            " ormalization)                  )                                                                 \n",
            "                                                                                                  \n",
            " add_9 (Add)                    (None, 14, 14, 1024  0           ['batch_normalization_33[0][0]', \n",
            "                                )                                 'activation_27[0][0]']          \n",
            "                                                                                                  \n",
            " activation_30 (Activation)     (None, 14, 14, 1024  0           ['add_9[0][0]']                  \n",
            "                                )                                                                 \n",
            "                                                                                                  \n",
            " conv2d_34 (Conv2D)             (None, 14, 14, 256)  262400      ['activation_30[0][0]']          \n",
            "                                                                                                  \n",
            " batch_normalization_34 (BatchN  (None, 14, 14, 256)  1024       ['conv2d_34[0][0]']              \n",
            " ormalization)                                                                                    \n",
            "                                                                                                  \n",
            " activation_31 (Activation)     (None, 14, 14, 256)  0           ['batch_normalization_34[0][0]'] \n",
            "                                                                                                  \n",
            " conv2d_35 (Conv2D)             (None, 14, 14, 256)  590080      ['activation_31[0][0]']          \n",
            "                                                                                                  \n",
            " batch_normalization_35 (BatchN  (None, 14, 14, 256)  1024       ['conv2d_35[0][0]']              \n",
            " ormalization)                                                                                    \n",
            "                                                                                                  \n",
            " activation_32 (Activation)     (None, 14, 14, 256)  0           ['batch_normalization_35[0][0]'] \n",
            "                                                                                                  \n",
            " conv2d_36 (Conv2D)             (None, 14, 14, 1024  263168      ['activation_32[0][0]']          \n",
            "                                )                                                                 \n",
            "                                                                                                  \n",
            " batch_normalization_36 (BatchN  (None, 14, 14, 1024  4096       ['conv2d_36[0][0]']              \n",
            " ormalization)                  )                                                                 \n",
            "                                                                                                  \n",
            " add_10 (Add)                   (None, 14, 14, 1024  0           ['batch_normalization_36[0][0]', \n",
            "                                )                                 'activation_30[0][0]']          \n",
            "                                                                                                  \n",
            " activation_33 (Activation)     (None, 14, 14, 1024  0           ['add_10[0][0]']                 \n",
            "                                )                                                                 \n",
            "                                                                                                  \n",
            " conv2d_37 (Conv2D)             (None, 14, 14, 256)  262400      ['activation_33[0][0]']          \n",
            "                                                                                                  \n",
            " batch_normalization_37 (BatchN  (None, 14, 14, 256)  1024       ['conv2d_37[0][0]']              \n",
            " ormalization)                                                                                    \n",
            "                                                                                                  \n",
            " activation_34 (Activation)     (None, 14, 14, 256)  0           ['batch_normalization_37[0][0]'] \n",
            "                                                                                                  \n",
            " conv2d_38 (Conv2D)             (None, 14, 14, 256)  590080      ['activation_34[0][0]']          \n",
            "                                                                                                  \n",
            " batch_normalization_38 (BatchN  (None, 14, 14, 256)  1024       ['conv2d_38[0][0]']              \n",
            " ormalization)                                                                                    \n",
            "                                                                                                  \n",
            " activation_35 (Activation)     (None, 14, 14, 256)  0           ['batch_normalization_38[0][0]'] \n",
            "                                                                                                  \n",
            " conv2d_39 (Conv2D)             (None, 14, 14, 1024  263168      ['activation_35[0][0]']          \n",
            "                                )                                                                 \n",
            "                                                                                                  \n",
            " batch_normalization_39 (BatchN  (None, 14, 14, 1024  4096       ['conv2d_39[0][0]']              \n",
            " ormalization)                  )                                                                 \n",
            "                                                                                                  \n",
            " add_11 (Add)                   (None, 14, 14, 1024  0           ['batch_normalization_39[0][0]', \n",
            "                                )                                 'activation_33[0][0]']          \n",
            "                                                                                                  \n",
            " activation_36 (Activation)     (None, 14, 14, 1024  0           ['add_11[0][0]']                 \n",
            "                                )                                                                 \n",
            "                                                                                                  \n",
            " conv2d_40 (Conv2D)             (None, 14, 14, 256)  262400      ['activation_36[0][0]']          \n",
            "                                                                                                  \n",
            " batch_normalization_40 (BatchN  (None, 14, 14, 256)  1024       ['conv2d_40[0][0]']              \n",
            " ormalization)                                                                                    \n",
            "                                                                                                  \n",
            " activation_37 (Activation)     (None, 14, 14, 256)  0           ['batch_normalization_40[0][0]'] \n",
            "                                                                                                  \n",
            " conv2d_41 (Conv2D)             (None, 14, 14, 256)  590080      ['activation_37[0][0]']          \n",
            "                                                                                                  \n",
            " batch_normalization_41 (BatchN  (None, 14, 14, 256)  1024       ['conv2d_41[0][0]']              \n",
            " ormalization)                                                                                    \n",
            "                                                                                                  \n",
            " activation_38 (Activation)     (None, 14, 14, 256)  0           ['batch_normalization_41[0][0]'] \n",
            "                                                                                                  \n",
            " conv2d_42 (Conv2D)             (None, 14, 14, 1024  263168      ['activation_38[0][0]']          \n",
            "                                )                                                                 \n",
            "                                                                                                  \n",
            " batch_normalization_42 (BatchN  (None, 14, 14, 1024  4096       ['conv2d_42[0][0]']              \n",
            " ormalization)                  )                                                                 \n",
            "                                                                                                  \n",
            " add_12 (Add)                   (None, 14, 14, 1024  0           ['batch_normalization_42[0][0]', \n",
            "                                )                                 'activation_36[0][0]']          \n",
            "                                                                                                  \n",
            " activation_39 (Activation)     (None, 14, 14, 1024  0           ['add_12[0][0]']                 \n",
            "                                )                                                                 \n",
            "                                                                                                  \n",
            " conv2d_43 (Conv2D)             (None, 7, 7, 512)    524800      ['activation_39[0][0]']          \n",
            "                                                                                                  \n",
            " batch_normalization_43 (BatchN  (None, 7, 7, 512)   2048        ['conv2d_43[0][0]']              \n",
            " ormalization)                                                                                    \n",
            "                                                                                                  \n",
            " activation_40 (Activation)     (None, 7, 7, 512)    0           ['batch_normalization_43[0][0]'] \n",
            "                                                                                                  \n",
            " conv2d_44 (Conv2D)             (None, 7, 7, 512)    2359808     ['activation_40[0][0]']          \n",
            "                                                                                                  \n",
            " batch_normalization_44 (BatchN  (None, 7, 7, 512)   2048        ['conv2d_44[0][0]']              \n",
            " ormalization)                                                                                    \n",
            "                                                                                                  \n",
            " activation_41 (Activation)     (None, 7, 7, 512)    0           ['batch_normalization_44[0][0]'] \n",
            "                                                                                                  \n",
            " conv2d_45 (Conv2D)             (None, 7, 7, 2048)   1050624     ['activation_41[0][0]']          \n",
            "                                                                                                  \n",
            " conv2d_46 (Conv2D)             (None, 7, 7, 2048)   2099200     ['activation_39[0][0]']          \n",
            "                                                                                                  \n",
            " batch_normalization_45 (BatchN  (None, 7, 7, 2048)  8192        ['conv2d_45[0][0]']              \n",
            " ormalization)                                                                                    \n",
            "                                                                                                  \n",
            " batch_normalization_46 (BatchN  (None, 7, 7, 2048)  8192        ['conv2d_46[0][0]']              \n",
            " ormalization)                                                                                    \n",
            "                                                                                                  \n",
            " add_13 (Add)                   (None, 7, 7, 2048)   0           ['batch_normalization_45[0][0]', \n",
            "                                                                  'batch_normalization_46[0][0]'] \n",
            "                                                                                                  \n",
            " activation_42 (Activation)     (None, 7, 7, 2048)   0           ['add_13[0][0]']                 \n",
            "                                                                                                  \n",
            " conv2d_47 (Conv2D)             (None, 7, 7, 512)    1049088     ['activation_42[0][0]']          \n",
            "                                                                                                  \n",
            " batch_normalization_47 (BatchN  (None, 7, 7, 512)   2048        ['conv2d_47[0][0]']              \n",
            " ormalization)                                                                                    \n",
            "                                                                                                  \n",
            " activation_43 (Activation)     (None, 7, 7, 512)    0           ['batch_normalization_47[0][0]'] \n",
            "                                                                                                  \n",
            " conv2d_48 (Conv2D)             (None, 7, 7, 512)    2359808     ['activation_43[0][0]']          \n",
            "                                                                                                  \n",
            " batch_normalization_48 (BatchN  (None, 7, 7, 512)   2048        ['conv2d_48[0][0]']              \n",
            " ormalization)                                                                                    \n",
            "                                                                                                  \n",
            " activation_44 (Activation)     (None, 7, 7, 512)    0           ['batch_normalization_48[0][0]'] \n",
            "                                                                                                  \n",
            " conv2d_49 (Conv2D)             (None, 7, 7, 2048)   1050624     ['activation_44[0][0]']          \n",
            "                                                                                                  \n",
            " batch_normalization_49 (BatchN  (None, 7, 7, 2048)  8192        ['conv2d_49[0][0]']              \n",
            " ormalization)                                                                                    \n",
            "                                                                                                  \n",
            " add_14 (Add)                   (None, 7, 7, 2048)   0           ['batch_normalization_49[0][0]', \n",
            "                                                                  'activation_42[0][0]']          \n",
            "                                                                                                  \n",
            " activation_45 (Activation)     (None, 7, 7, 2048)   0           ['add_14[0][0]']                 \n",
            "                                                                                                  \n",
            " conv2d_50 (Conv2D)             (None, 7, 7, 512)    1049088     ['activation_45[0][0]']          \n",
            "                                                                                                  \n",
            " batch_normalization_50 (BatchN  (None, 7, 7, 512)   2048        ['conv2d_50[0][0]']              \n",
            " ormalization)                                                                                    \n",
            "                                                                                                  \n",
            " activation_46 (Activation)     (None, 7, 7, 512)    0           ['batch_normalization_50[0][0]'] \n",
            "                                                                                                  \n",
            " conv2d_51 (Conv2D)             (None, 7, 7, 512)    2359808     ['activation_46[0][0]']          \n",
            "                                                                                                  \n",
            " batch_normalization_51 (BatchN  (None, 7, 7, 512)   2048        ['conv2d_51[0][0]']              \n",
            " ormalization)                                                                                    \n",
            "                                                                                                  \n",
            " activation_47 (Activation)     (None, 7, 7, 512)    0           ['batch_normalization_51[0][0]'] \n",
            "                                                                                                  \n",
            " conv2d_52 (Conv2D)             (None, 7, 7, 2048)   1050624     ['activation_47[0][0]']          \n",
            "                                                                                                  \n",
            " batch_normalization_52 (BatchN  (None, 7, 7, 2048)  8192        ['conv2d_52[0][0]']              \n",
            " ormalization)                                                                                    \n",
            "                                                                                                  \n",
            " add_15 (Add)                   (None, 7, 7, 2048)   0           ['batch_normalization_52[0][0]', \n",
            "                                                                  'activation_45[0][0]']          \n",
            "                                                                                                  \n",
            " activation_48 (Activation)     (None, 7, 7, 2048)   0           ['add_15[0][0]']                 \n",
            "                                                                                                  \n",
            " avg_pool (AveragePooling2D)    (None, 3, 3, 2048)   0           ['activation_48[0][0]']          \n",
            "                                                                                                  \n",
            " flatten (Flatten)              (None, 18432)        0           ['avg_pool[0][0]']               \n",
            "                                                                                                  \n",
            " fc3 (Dense)                    (None, 3)            55299       ['flatten[0][0]']                \n",
            "                                                                                                  \n",
            "==================================================================================================\n",
            "Total params: 23,643,011\n",
            "Trainable params: 23,589,891\n",
            "Non-trainable params: 53,120\n",
            "__________________________________________________________________________________________________\n"
          ]
        }
      ],
      "source": [
        "model.summary()"
      ]
    },
    {
      "cell_type": "code",
      "execution_count": null,
      "metadata": {
        "id": "bcsCsk0abRa8"
      },
      "outputs": [],
      "source": [
        "y_train_res = tf.keras.utils.to_categorical(y_train,3)\n",
        "y_test_res = tf.keras.utils.to_categorical(y_test,3)"
      ]
    },
    {
      "cell_type": "code",
      "execution_count": null,
      "metadata": {
        "colab": {
          "base_uri": "https://localhost:8080/"
        },
        "id": "m4NqcnVjbRdM",
        "outputId": "f99948ea-b321-4eb7-b13d-938a346ed582"
      },
      "outputs": [
        {
          "output_type": "execute_result",
          "data": {
            "text/plain": [
              "array([[0., 0., 1.],\n",
              "       [0., 1., 0.],\n",
              "       [1., 0., 0.],\n",
              "       ...,\n",
              "       [1., 0., 0.],\n",
              "       [1., 0., 0.],\n",
              "       [0., 0., 1.]], dtype=float32)"
            ]
          },
          "metadata": {},
          "execution_count": 16
        }
      ],
      "source": [
        "y_train_res"
      ]
    },
    {
      "cell_type": "code",
      "execution_count": null,
      "metadata": {
        "id": "VRBZKhBmbRfv"
      },
      "outputs": [],
      "source": [
        "X_train = tf.expand_dims(X_train,axis=-1)"
      ]
    },
    {
      "cell_type": "code",
      "execution_count": null,
      "metadata": {
        "colab": {
          "base_uri": "https://localhost:8080/"
        },
        "id": "5n2db_Twb5c8",
        "outputId": "7fa4e939-702b-4cc8-9139-516149aa101c"
      },
      "outputs": [
        {
          "output_type": "execute_result",
          "data": {
            "text/plain": [
              "(2165, 3)"
            ]
          },
          "metadata": {},
          "execution_count": 18
        }
      ],
      "source": [
        "y_train_res.shape"
      ]
    },
    {
      "cell_type": "code",
      "execution_count": null,
      "metadata": {
        "id": "_F0UbBblb5fk"
      },
      "outputs": [],
      "source": [
        "X_test = tf.expand_dims(X_test,axis=-1)"
      ]
    },
    {
      "cell_type": "code",
      "execution_count": null,
      "metadata": {
        "colab": {
          "base_uri": "https://localhost:8080/"
        },
        "id": "POANM9NMb5iB",
        "outputId": "84b64c35-7f3e-41bb-c46f-a882acf17550"
      },
      "outputs": [
        {
          "output_type": "execute_result",
          "data": {
            "text/plain": [
              "TensorShape([542, 224, 224, 3, 1])"
            ]
          },
          "metadata": {},
          "execution_count": 20
        }
      ],
      "source": [
        "X_test.shape"
      ]
    },
    {
      "cell_type": "code",
      "execution_count": null,
      "metadata": {
        "id": "l-SIUgmTb5kn"
      },
      "outputs": [],
      "source": [
        "checkpointer = EarlyStopping(monitor = 'val_accuracy', verbose = 1, restore_best_weights=True,mode=\"max\",patience = 8)\n",
        "# checkpointer to monitor accuracy and preventing overfit\n",
        "# if validation accuracy do not imporve for 15 turns the training will stop."
      ]
    },
    {
      "cell_type": "code",
      "execution_count": null,
      "metadata": {
        "colab": {
          "base_uri": "https://localhost:8080/"
        },
        "id": "GFkOEE5Hb5mz",
        "outputId": "9461966c-cfe2-42af-a103-0e1f1af2bc6d"
      },
      "outputs": [
        {
          "output_type": "stream",
          "name": "stdout",
          "text": [
            "Epoch 1/20\n",
            "55/55 [==============================] - 157s 3s/step - loss: 2.1745 - accuracy: 0.7413 - val_loss: 359.4837 - val_accuracy: 0.2055\n",
            "Epoch 2/20\n",
            "55/55 [==============================] - 148s 3s/step - loss: 0.5854 - accuracy: 0.8643 - val_loss: 0.8967 - val_accuracy: 0.7021\n",
            "Epoch 3/20\n",
            "55/55 [==============================] - 153s 3s/step - loss: 0.7158 - accuracy: 0.8707 - val_loss: 20.9094 - val_accuracy: 0.1640\n",
            "Epoch 4/20\n",
            "55/55 [==============================] - 147s 3s/step - loss: 1.3834 - accuracy: 0.8164 - val_loss: 58.0535 - val_accuracy: 0.2055\n",
            "Epoch 5/20\n",
            "55/55 [==============================] - 146s 3s/step - loss: 0.3435 - accuracy: 0.9053 - val_loss: 51.4909 - val_accuracy: 0.6005\n",
            "Epoch 6/20\n",
            "55/55 [==============================] - 147s 3s/step - loss: 0.1908 - accuracy: 0.9342 - val_loss: 175.7510 - val_accuracy: 0.7136\n",
            "Epoch 7/20\n",
            "55/55 [==============================] - 146s 3s/step - loss: 0.1273 - accuracy: 0.9561 - val_loss: 1.9187 - val_accuracy: 0.8453\n",
            "Epoch 8/20\n",
            "55/55 [==============================] - 146s 3s/step - loss: 0.1523 - accuracy: 0.9480 - val_loss: 0.1726 - val_accuracy: 0.9330\n",
            "Epoch 9/20\n",
            "55/55 [==============================] - 147s 3s/step - loss: 0.1234 - accuracy: 0.9636 - val_loss: 0.5655 - val_accuracy: 0.9215\n",
            "Epoch 10/20\n",
            "55/55 [==============================] - 146s 3s/step - loss: 0.0895 - accuracy: 0.9642 - val_loss: 2.6275 - val_accuracy: 0.8730\n",
            "Epoch 11/20\n",
            "55/55 [==============================] - 147s 3s/step - loss: 0.0800 - accuracy: 0.9740 - val_loss: 0.1894 - val_accuracy: 0.9515\n",
            "Epoch 12/20\n",
            "55/55 [==============================] - 146s 3s/step - loss: 0.0657 - accuracy: 0.9781 - val_loss: 5.9794 - val_accuracy: 0.8568\n",
            "Epoch 13/20\n",
            "55/55 [==============================] - 146s 3s/step - loss: 0.3485 - accuracy: 0.9330 - val_loss: 261.3291 - val_accuracy: 0.5727\n",
            "Epoch 14/20\n",
            "55/55 [==============================] - 146s 3s/step - loss: 1.1779 - accuracy: 0.8020 - val_loss: 718.0378 - val_accuracy: 0.2148\n",
            "Epoch 15/20\n",
            "55/55 [==============================] - 146s 3s/step - loss: 0.2727 - accuracy: 0.9197 - val_loss: 4.5249 - val_accuracy: 0.8037\n",
            "Epoch 16/20\n",
            "55/55 [==============================] - 147s 3s/step - loss: 0.1776 - accuracy: 0.9382 - val_loss: 7.6345 - val_accuracy: 0.7344\n",
            "Epoch 17/20\n",
            "55/55 [==============================] - 147s 3s/step - loss: 0.1483 - accuracy: 0.9457 - val_loss: 0.3206 - val_accuracy: 0.8637\n",
            "Epoch 18/20\n",
            "55/55 [==============================] - 147s 3s/step - loss: 0.1220 - accuracy: 0.9527 - val_loss: 1.2104 - val_accuracy: 0.6467\n",
            "Epoch 19/20\n",
            "55/55 [==============================] - ETA: 0s - loss: 0.2566 - accuracy: 0.9296Restoring model weights from the end of the best epoch: 11.\n",
            "55/55 [==============================] - 147s 3s/step - loss: 0.2566 - accuracy: 0.9296 - val_loss: 63.1017 - val_accuracy: 0.2841\n",
            "Epoch 19: early stopping\n"
          ]
        }
      ],
      "source": [
        "history = model.fit(\n",
        "            X_train,\n",
        "            y_train_res,\n",
        "            epochs=20,\n",
        "            verbose=1,\n",
        "            validation_split= 0.2,\n",
        "            callbacks = [checkpointer])"
      ]
    },
    {
      "cell_type": "code",
      "execution_count": null,
      "metadata": {
        "id": "vv9Toy8icAi1",
        "colab": {
          "base_uri": "https://localhost:8080/"
        },
        "outputId": "56c7234d-96dd-49c6-d662-553c95aa2b0a"
      },
      "outputs": [
        {
          "output_type": "stream",
          "name": "stdout",
          "text": [
            "68/68 [==============================] - 34s 493ms/step - loss: 0.0893 - accuracy: 0.9723\n",
            "Final Train accuracy = 97.22864031791687%\n",
            "17/17 [==============================] - 8s 489ms/step - loss: 0.1157 - accuracy: 0.9520\n",
            "Validation accuracy = 95.20295262336731%\n"
          ]
        }
      ],
      "source": [
        "print(f\"Final Train accuracy = {model.evaluate(X_train,y_train_res)[1]*100}%\")\n",
        "print(f\"Validation accuracy = {model.evaluate(X_test,y_test_res)[1]*100}%\")"
      ]
    },
    {
      "cell_type": "code",
      "execution_count": null,
      "metadata": {
        "id": "Q3GdOFugcAlM",
        "colab": {
          "base_uri": "https://localhost:8080/",
          "height": 279
        },
        "outputId": "f96d4a0d-a5c0-444e-c786-8a2e22026a0f"
      },
      "outputs": [
        {
          "output_type": "display_data",
          "data": {
            "text/plain": [
              "<Figure size 432x288 with 2 Axes>"
            ],
            "image/png": "[encoded data removed]"
          },
          "metadata": {
            "needs_background": "light"
          }
        }
      ],
      "source": [
        "from sklearn.metrics import ConfusionMatrixDisplay\n",
        "from sklearn.metrics import confusion_matrix\n",
        "prediction = model.predict(X_test)\n",
        "cm = confusion_matrix(y_test_res.argmax(axis=1), prediction.argmax(axis=1))\n",
        "labels = [\"Normal\",\"Pneumonia\",\"Tuberculosis\"]\n",
        "disp = ConfusionMatrixDisplay(confusion_matrix=cm, display_labels=labels)\n",
        "disp.plot(cmap=plt.cm.Blues)\n",
        "plt.show()"
      ]
    },
    {
      "cell_type": "code",
      "execution_count": null,
      "metadata": {
        "id": "eQe2VN3McAnv",
        "colab": {
          "base_uri": "https://localhost:8080/"
        },
        "outputId": "0c32e56e-9e93-4499-f6c5-69bdb7480b90"
      },
      "outputs": [
        {
          "output_type": "stream",
          "name": "stdout",
          "text": [
            "INFO:tensorflow:Assets written to: ram://6ee8c990-e55c-4f0d-b438-0e5b46baaf6c/assets\n"
          ]
        }
      ],
      "source": [
        "import pickle\n",
        "with open('modelresneton20epochs8020_pickle','wb') as f:\n",
        "  pickle.dump(model,f)"
      ]
    },
    {
      "cell_type": "code",
      "execution_count": null,
      "metadata": {
        "id": "yGWubYyNcAqg"
      },
      "outputs": [],
      "source": [
        "import tensorflow as tf\n",
        "from keras.models import load_model\n",
        "model.save('newstartresnetachhahai.h5')"
      ]
    },
    {
      "cell_type": "code",
      "source": [
        "training_accuracy = history.history['accuracy']\n",
        "val_accuracy = history.history['val_accuracy']\n",
        "\n",
        "# Create count of the number of epochs\n",
        "epoch_count = range(1, len(training_accuracy) + 1)\n",
        "\n",
        "# Visualize loss history\n",
        "\n",
        "plt.plot(epoch_count, training_accuracy, 'r--')\n",
        "plt.plot(epoch_count, val_accuracy, 'b-')\n",
        "plt.legend(['Training Accuracy', 'Val Accuracy'])\n",
        "plt.xlabel('Epoch')\n",
        "plt.ylabel('Accuracy')\n",
        "plt.ylim(top = 1)\n",
        "plt.show()"
      ],
      "metadata": {
        "colab": {
          "base_uri": "https://localhost:8080/",
          "height": 283
        },
        "id": "2KDpM2FULPrS",
        "outputId": "a488002f-36d6-4c2d-dc2b-e34238d6fefc"
      },
      "execution_count": null,
      "outputs": [
        {
          "output_type": "display_data",
          "data": {
            "text/plain": [
              "<Figure size 432x288 with 1 Axes>"
            ],
            "image/png": "[encoded data removed]"
          },
          "metadata": {
            "needs_background": "light"
          }
        }
      ]
    }
  ],
  "metadata": {
    "accelerator": "TPU",
    "colab": {
      "background_execution": "on",
      "machine_shape": "hm",
      "provenance": [],
      "collapsed_sections": [],
      "authorship_tag": "ABX9TyM9XeOjIU2Wc3f4PNA4Deqy"
    },
    "gpuClass": "standard",
    "kernelspec": {
      "display_name": "Python 3",
      "name": "python3"
    },
    "language_info": {
      "name": "python"
    }
  },
  "nbformat": 4,
  "nbformat_minor": 0
}