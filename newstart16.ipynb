{
  "cells": [
    {
      "cell_type": "code",
      "execution_count": null,
      "metadata": {
        "id": "x5AN1XSSURxy"
      },
      "outputs": [],
      "source": [
        "import numpy as np # linear algebra\n",
        "import pandas as pd # data processing, CSV file I/O (e.g. pd.read_csv)\n",
        "import matplotlib.pyplot as plt\n",
        "import os\n",
        "import seaborn as sns\n",
        "%matplotlib inline\n",
        "import glob\n",
        "import PIL\n",
        "from sklearn.model_selection import train_test_split\n",
        "from sklearn import svm\n",
        "from sklearn.model_selection import GridSearchCV\n",
        "import tensorflow as tf\n",
        "from keras import regularizers\n",
        "from keras.callbacks import EarlyStopping\n",
        "from keras.models import Model\n",
        "from keras.layers import (BatchNormalization, Conv2D, MaxPooling2D, Activation, Flatten, Dropout, Dense, Input)\n",
        "from keras import backend as K"
      ]
    },
    {
      "cell_type": "code",
      "execution_count": null,
      "metadata": {
        "colab": {
          "base_uri": "https://localhost:8080/"
        },
        "id": "LvgfC9ebUinj",
        "outputId": "4137cf22-1687-45e5-8478-72200527833c"
      },
      "outputs": [
        {
          "name": "stdout",
          "output_type": "stream",
          "text": [
            "Looking in indexes: https://pypi.org/simple, https://us-python.pkg.dev/colab-wheels/public/simple/\n",
            "Requirement already satisfied: keras in /usr/local/lib/python3.7/dist-packages (2.8.0)\n"
          ]
        }
      ],
      "source": [
        "import tensorflow as tf\n",
        "tf.__version__\n",
        "\n",
        "!sudo pip3 install keras"
      ]
    },
    {
      "cell_type": "code",
      "execution_count": null,
      "metadata": {
        "id": "X01DKFq5Uipz"
      },
      "outputs": [],
      "source": [
        "from keras.layers import Layer, InputSpec"
      ]
    },
    {
      "cell_type": "code",
      "execution_count": null,
      "metadata": {
        "colab": {
          "base_uri": "https://localhost:8080/"
        },
        "id": "pNGNxm1dUmla",
        "outputId": "b57ab636-78fa-4326-b753-94f91025a808"
      },
      "outputs": [
        {
          "name": "stdout",
          "output_type": "stream",
          "text": [
            "Mounted at /content/drive/\n"
          ]
        }
      ],
      "source": [
        "from google.colab import drive\n",
        "drive.mount('/content/drive/')"
      ]
    },
    {
      "cell_type": "code",
      "execution_count": null,
      "metadata": {
        "id": "dgyHfo4_UmoK"
      },
      "outputs": [],
      "source": [
        "# pixels range from 0 to 255 so dividing by 255 so value lie between 0 and 1 and ML works best with numbers between 0 and 1.\n",
        "# We split dataset into training and validation category. Model learns from Train data and Model accuracy is checked with Validation data as this is the data model has not train on. (unknown real world image)\n",
        "\n",
        "normal = glob.glob('../content/drive/MyDrive/cleandata/train/NORMAL/*.*')\n",
        "pneumonia = glob.glob('../content/drive/MyDrive/cleandata/train/PNEUMONIA/*.*')\n",
        "tuber = glob.glob('../content/drive/MyDrive/cleandata/train/TURBERCULOSIS/*.*')\n",
        "\n",
        "normal_test = glob.glob('../content/drive/MyDrive/cleandata/test/NORMAL/*.*')\n",
        "pneumonia_test = glob.glob('../content/drive/MyDrive/cleandata/test/PNEUMONIA/*.*')\n",
        "tuber_test = glob.glob('../content/drive/MyDrive/cleandata/test/TURBERCULOSIS/*.*')\n",
        " \n",
        "normal.extend(normal_test)\n",
        "pneumonia.extend(pneumonia_test)\n",
        "tuber.extend(tuber_test)\n",
        "\n",
        "\n",
        "data = []\n",
        "labels = []\n",
        "\n",
        "\n",
        "for i in normal:   \n",
        "    image=tf.keras.preprocessing.image.load_img(i, \n",
        "    target_size= (224,224,3))\n",
        "    image=np.array(image)\n",
        "    data.append(image)\n",
        "    labels.append(0)\n",
        "for i in pneumonia[:566]:   \n",
        "    image=tf.keras.preprocessing.image.load_img(i, \n",
        "    target_size= (224,224,3))\n",
        "    image=np.array(image)\n",
        "    data.append(image)\n",
        "    labels.append(1)\n",
        "for i in tuber[:566]:   \n",
        "    image=tf.keras.preprocessing.image.load_img(i, \n",
        "    target_size= (224,224,3))\n",
        "    image=np.array(image)\n",
        "    data.append(image)\n",
        "    labels.append(2)\n",
        "\n",
        "data = np.array(data)\n",
        "labels = np.array(labels)"
      ]
    },
    {
      "cell_type": "code",
      "execution_count": null,
      "metadata": {
        "colab": {
          "base_uri": "https://localhost:8080/"
        },
        "id": "7NKgCUuzaiqp",
        "outputId": "3f178871-3277-4c0f-a7e6-dfc3c6890dbf"
      },
      "outputs": [
        {
          "data": {
            "text/plain": [
              "2707"
            ]
          },
          "execution_count": 108,
          "metadata": {},
          "output_type": "execute_result"
        }
      ],
      "source": [
        "len(data)"
      ]
    },
    {
      "cell_type": "code",
      "execution_count": null,
      "metadata": {
        "id": "vg_TwXqRUrrS"
      },
      "outputs": [],
      "source": [
        "X_train, X_test, y_train, y_test = train_test_split(data, labels, test_size=0.2,random_state=42,stratify=labels)\n"
      ]
    },
    {
      "cell_type": "code",
      "execution_count": null,
      "metadata": {
        "id": "E2PMUApJUrwa"
      },
      "outputs": [],
      "source": [
        "def VGGupdated(input_tensor=None, classes=3): \n",
        "    \n",
        "    img_rows, img_cols = 224,224\n",
        "    img_channels = 3 #we are going to work on coloured images\n",
        "    \n",
        "    img_dim = (img_rows, img_cols, img_channels) #224,224,3\n",
        "    \n",
        "    img_input = Input(shape = img_dim) #input from user we want is tis\n",
        "    \n",
        "    \n",
        "    #block1\n",
        "    x = Conv2D(64, (3,3), activation='relu', padding='same', name='block1_conv1')(img_input) #64 filters of 3x3,padding same as we want size of output image ame as input image\n",
        "    x = Conv2D(64, (3,3), activation='relu', padding='same', name='block1_conv2')(x)#relu will replace all the negative values with 0\n",
        "    x = MaxPooling2D((2,2), strides=(2,2), name='block1_pool')(x) #pooling to reduce the image size, strides the window size for scanning\n",
        "    \n",
        "    #block2\n",
        "    x = Conv2D(128, (3,3), activation='relu', padding='same', name='block2_conv1')(x)\n",
        "    x = Conv2D(128, (3,3), activation='relu', padding='same', name='block2_conv2')(x)\n",
        "    x = MaxPooling2D((2,2), strides=(2,2), name='block2_pool')(x) \n",
        "    \n",
        "    #block3\n",
        "    x = Conv2D(256, (3,3), activation='relu', padding='same', name='block3_conv1')(x)\n",
        "    x = Conv2D(256, (3,3), activation='relu', padding='same', name='block3_conv2')(x)\n",
        "    x = Conv2D(256, (3,3), activation='relu', padding='same', name='block3_conv3')(x)\n",
        "    #x = Conv2D(256, (3,3), activation='relu', padding='same', name='block3_conv3')(x)\n",
        "\n",
        "    x = MaxPooling2D((2,2), strides=(2,2), name='block3_pool')(x)\n",
        "    \n",
        "    #block4\n",
        "    x = Conv2D(512, (3,3), activation='relu', padding='same', name='block4_conv1')(x)\n",
        "    x = Conv2D(512, (3,3), activation='relu', padding='same', name='block4_conv2')(x)\n",
        "    x = Conv2D(512, (3,3), activation='relu', padding='same', name='block4_conv3')(x)\n",
        "    #x = Conv2D(512, (3,3), activation='relu', padding='same', name='block4_conv4')(x)\n",
        "    x = MaxPooling2D((2,2), strides=(2,2), name='block4_pool')(x)\n",
        "    \n",
        "    #block5\n",
        "    x = Conv2D(512, (3,3), activation='relu', padding='same', name='block5_conv1')(x)\n",
        "    x = Conv2D(512, (3,3), activation='relu', padding='same', name='block5_conv2')(x)\n",
        "    x = Conv2D(512, (3,3), activation='relu', padding='same', name='block5_conv3')(x)\n",
        "    #x = Conv2D(512, (3,3), activation='relu', padding='same', name='block5_conv4')(x)\n",
        "    x = MaxPooling2D((2,2), strides=(2,2), name='block5_pool')(x)\n",
        "    \n",
        "    #classification block\n",
        "    x = Flatten(name='flatten')(x) #when we need to classify image we ned to flaten it\n",
        "    x = Dense(4096, activation='relu', name='fc1')(x) #4096 nurons\n",
        "    x = Dense(4096, activation='relu', name='fc2')(x)\n",
        "    x = Dense(1000, activation='relu', name='fc3')(x)\n",
        "    x = Dense(classes, activation='softmax', name='predictions')(x)\n",
        "    \n",
        "    \n",
        "    #create model\n",
        "    model = Model(inputs = img_input, outputs = x, name='vggtuber')\n",
        "    \n",
        "    return model"
      ]
    },
    {
      "cell_type": "code",
      "execution_count": null,
      "metadata": {
        "id": "Efqgzl-EUr0L"
      },
      "outputs": [],
      "source": []
    },
    {
      "cell_type": "code",
      "execution_count": null,
      "metadata": {
        "id": "yEG7l2VAUr2K"
      },
      "outputs": [],
      "source": []
    },
    {
      "cell_type": "code",
      "execution_count": null,
      "metadata": {
        "id": "ZKKzm7PMWEtv"
      },
      "outputs": [],
      "source": [
        "model = VGGupdated(classes = 3) "
      ]
    },
    {
      "cell_type": "code",
      "execution_count": null,
      "metadata": {
        "id": "CG9P0fohU9q2"
      },
      "outputs": [],
      "source": [
        "model.compile(loss='categorical_crossentropy',\n",
        "              optimizer='adam',\n",
        "              metrics=['accuracy'])"
      ]
    },
    {
      "cell_type": "code",
      "execution_count": null,
      "metadata": {
        "colab": {
          "base_uri": "https://localhost:8080/"
        },
        "id": "9N4yBXhQU9tW",
        "outputId": "0d10639f-2bbf-4e52-8ff3-05230316a095"
      },
      "outputs": [
        {
          "name": "stdout",
          "output_type": "stream",
          "text": [
            "Model: \"vggtuber\"\n",
            "_________________________________________________________________\n",
            " Layer (type)                Output Shape              Param #   \n",
            "=================================================================\n",
            " input_5 (InputLayer)        [(None, 224, 224, 3)]     0         \n",
            "                                                                 \n",
            " block1_conv1 (Conv2D)       (None, 224, 224, 64)      1792      \n",
            "                                                                 \n",
            " block1_conv2 (Conv2D)       (None, 224, 224, 64)      36928     \n",
            "                                                                 \n",
            " block1_pool (MaxPooling2D)  (None, 112, 112, 64)      0         \n",
            "                                                                 \n",
            " block2_conv1 (Conv2D)       (None, 112, 112, 128)     73856     \n",
            "                                                                 \n",
            " block2_conv2 (Conv2D)       (None, 112, 112, 128)     147584    \n",
            "                                                                 \n",
            " block2_pool (MaxPooling2D)  (None, 56, 56, 128)       0         \n",
            "                                                                 \n",
            " block3_conv1 (Conv2D)       (None, 56, 56, 256)       295168    \n",
            "                                                                 \n",
            " block3_conv2 (Conv2D)       (None, 56, 56, 256)       590080    \n",
            "                                                                 \n",
            " block3_conv3 (Conv2D)       (None, 56, 56, 256)       590080    \n",
            "                                                                 \n",
            " block3_pool (MaxPooling2D)  (None, 28, 28, 256)       0         \n",
            "                                                                 \n",
            " block4_conv1 (Conv2D)       (None, 28, 28, 512)       1180160   \n",
            "                                                                 \n",
            " block4_conv2 (Conv2D)       (None, 28, 28, 512)       2359808   \n",
            "                                                                 \n",
            " block4_conv3 (Conv2D)       (None, 28, 28, 512)       2359808   \n",
            "                                                                 \n",
            " block4_pool (MaxPooling2D)  (None, 14, 14, 512)       0         \n",
            "                                                                 \n",
            " block5_conv1 (Conv2D)       (None, 14, 14, 512)       2359808   \n",
            "                                                                 \n",
            " block5_conv2 (Conv2D)       (None, 14, 14, 512)       2359808   \n",
            "                                                                 \n",
            " block5_conv3 (Conv2D)       (None, 14, 14, 512)       2359808   \n",
            "                                                                 \n",
            " block5_pool (MaxPooling2D)  (None, 7, 7, 512)         0         \n",
            "                                                                 \n",
            " flatten (Flatten)           (None, 25088)             0         \n",
            "                                                                 \n",
            " fc1 (Dense)                 (None, 4096)              102764544 \n",
            "                                                                 \n",
            " fc2 (Dense)                 (None, 4096)              16781312  \n",
            "                                                                 \n",
            " fc3 (Dense)                 (None, 1000)              4097000   \n",
            "                                                                 \n",
            " predictions (Dense)         (None, 3)                 3003      \n",
            "                                                                 \n",
            "=================================================================\n",
            "Total params: 138,360,547\n",
            "Trainable params: 138,360,547\n",
            "Non-trainable params: 0\n",
            "_________________________________________________________________\n"
          ]
        }
      ],
      "source": [
        "model.summary()"
      ]
    },
    {
      "cell_type": "code",
      "execution_count": null,
      "metadata": {
        "id": "C4wpS2EXU9v1"
      },
      "outputs": [],
      "source": [
        "y_train_vgg16 = tf.keras.utils.to_categorical(y_train,3)\n",
        "y_test_vgg16 = tf.keras.utils.to_categorical(y_test,3)"
      ]
    },
    {
      "cell_type": "code",
      "execution_count": null,
      "metadata": {
        "colab": {
          "base_uri": "https://localhost:8080/"
        },
        "id": "ivivnt33U9y_",
        "outputId": "ba5b8829-0137-429c-b43c-e738cc97e4e3"
      },
      "outputs": [
        {
          "data": {
            "text/plain": [
              "array([[0., 0., 1.],\n",
              "       [0., 1., 0.],\n",
              "       [1., 0., 0.],\n",
              "       ...,\n",
              "       [1., 0., 0.],\n",
              "       [1., 0., 0.],\n",
              "       [0., 0., 1.]], dtype=float32)"
            ]
          },
          "execution_count": 115,
          "metadata": {},
          "output_type": "execute_result"
        }
      ],
      "source": [
        "y_train_vgg16"
      ]
    },
    {
      "cell_type": "code",
      "execution_count": null,
      "metadata": {
        "id": "rlah3SHLVI1F"
      },
      "outputs": [],
      "source": [
        "X_train = tf.expand_dims(X_train,axis=-1)"
      ]
    },
    {
      "cell_type": "code",
      "execution_count": null,
      "metadata": {
        "colab": {
          "base_uri": "https://localhost:8080/"
        },
        "id": "GsOd-BOQVI3t",
        "outputId": "9aa26a65-84d2-4671-ddce-e38153b2475e"
      },
      "outputs": [
        {
          "data": {
            "text/plain": [
              "(2165, 3)"
            ]
          },
          "execution_count": 117,
          "metadata": {},
          "output_type": "execute_result"
        }
      ],
      "source": [
        "y_train_vgg16.shape"
      ]
    },
    {
      "cell_type": "code",
      "execution_count": null,
      "metadata": {
        "id": "OM6dG78AVI6H"
      },
      "outputs": [],
      "source": [
        "X_test = tf.expand_dims(X_test,axis=-1)"
      ]
    },
    {
      "cell_type": "code",
      "execution_count": null,
      "metadata": {
        "colab": {
          "base_uri": "https://localhost:8080/"
        },
        "id": "SOAUn_AxAkcx",
        "outputId": "1dc8b296-abe4-4a44-ea62-cf90b41e613b"
      },
      "outputs": [
        {
          "data": {
            "text/plain": [
              "(542, 3)"
            ]
          },
          "execution_count": 119,
          "metadata": {},
          "output_type": "execute_result"
        }
      ],
      "source": [
        "y_test_vgg16.shape"
      ]
    },
    {
      "cell_type": "code",
      "execution_count": null,
      "metadata": {
        "colab": {
          "base_uri": "https://localhost:8080/"
        },
        "id": "QHNAA547VI8c",
        "outputId": "17a01a32-06e4-4338-c897-fd121260ee4d"
      },
      "outputs": [
        {
          "data": {
            "text/plain": [
              "TensorShape([542, 224, 224, 3, 1])"
            ]
          },
          "execution_count": 120,
          "metadata": {},
          "output_type": "execute_result"
        }
      ],
      "source": [
        "X_test.shape"
      ]
    },
    {
      "cell_type": "code",
      "execution_count": null,
      "metadata": {
        "id": "ComIGABAVI-X"
      },
      "outputs": [],
      "source": [
        "checkpointer = EarlyStopping(monitor = 'val_accuracy', verbose = 1, restore_best_weights=True,mode=\"max\",patience = 8)\n",
        "# checkpointer to monitor accuracy and preventing overfit\n",
        "# if validation accuracy do not imporve for 15 turns the training will stop."
      ]
    },
    {
      "cell_type": "code",
      "execution_count": null,
      "metadata": {
        "colab": {
          "background_save": true,
          "base_uri": "https://localhost:8080/"
        },
        "id": "fo1ZWedoVJAw",
        "outputId": "4aa2edbe-d34f-48cd-c3af-6229b15bab78"
      },
      "outputs": [
        {
          "name": "stdout",
          "output_type": "stream",
          "text": [
            "Epoch 1/20\n",
            "55/55 [==============================] - 405s 7s/step - loss: 415.8477 - accuracy: 0.5479 - val_loss: 0.9751 - val_accuracy: 0.5727\n",
            "Epoch 2/20\n",
            "55/55 [==============================] - 353s 6s/step - loss: 1.1205 - accuracy: 0.5739 - val_loss: 0.9890 - val_accuracy: 0.5727\n",
            "Epoch 3/20\n",
            "55/55 [==============================] - 351s 6s/step - loss: 0.9780 - accuracy: 0.5837 - val_loss: 0.9841 - val_accuracy: 0.5727\n",
            "Epoch 4/20\n",
            "55/55 [==============================] - 352s 6s/step - loss: 0.9702 - accuracy: 0.5837 - val_loss: 0.9788 - val_accuracy: 0.5727\n",
            "Epoch 5/20\n",
            "55/55 [==============================] - 367s 7s/step - loss: 0.9693 - accuracy: 0.5837 - val_loss: 0.9110 - val_accuracy: 0.5727\n",
            "Epoch 6/20\n",
            "55/55 [==============================] - 364s 7s/step - loss: 1.0712 - accuracy: 0.5589 - val_loss: 1.0425 - val_accuracy: 0.6051\n",
            "Epoch 7/20\n",
            "55/55 [==============================] - 363s 7s/step - loss: 1.0217 - accuracy: 0.5595 - val_loss: 0.9434 - val_accuracy: 0.5727\n",
            "Epoch 8/20\n",
            "55/55 [==============================] - 363s 7s/step - loss: 1.0384 - accuracy: 0.5641 - val_loss: 0.9831 - val_accuracy: 0.5727\n",
            "Epoch 9/20\n",
            "55/55 [==============================] - 363s 7s/step - loss: 0.9677 - accuracy: 0.5843 - val_loss: 0.7862 - val_accuracy: 0.6859\n",
            "Epoch 10/20\n",
            "55/55 [==============================] - 363s 7s/step - loss: 0.8767 - accuracy: 0.6299 - val_loss: 0.6583 - val_accuracy: 0.6998\n",
            "Epoch 11/20\n",
            "55/55 [==============================] - 366s 7s/step - loss: 0.6552 - accuracy: 0.7321 - val_loss: 0.7222 - val_accuracy: 0.7067\n",
            "Epoch 12/20\n",
            "55/55 [==============================] - 361s 7s/step - loss: 0.8591 - accuracy: 0.7055 - val_loss: 1.2701 - val_accuracy: 0.5727\n",
            "Epoch 13/20\n",
            "55/55 [==============================] - 363s 7s/step - loss: 0.7296 - accuracy: 0.7229 - val_loss: 0.6208 - val_accuracy: 0.7367\n",
            "Epoch 14/20\n",
            "55/55 [==============================] - 366s 7s/step - loss: 0.6165 - accuracy: 0.7460 - val_loss: 0.5948 - val_accuracy: 0.7460\n",
            "Epoch 15/20\n",
            "55/55 [==============================] - 365s 7s/step - loss: 0.5425 - accuracy: 0.7742 - val_loss: 0.3739 - val_accuracy: 0.8499\n",
            "Epoch 16/20\n",
            "55/55 [==============================] - 364s 7s/step - loss: 0.3772 - accuracy: 0.8510 - val_loss: 0.3645 - val_accuracy: 0.8614\n",
            "Epoch 17/20\n",
            "55/55 [==============================] - 357s 6s/step - loss: 0.2713 - accuracy: 0.8955 - val_loss: 0.4086 - val_accuracy: 0.8868\n",
            "Epoch 18/20\n",
            "55/55 [==============================] - 355s 6s/step - loss: 0.2096 - accuracy: 0.9180 - val_loss: 0.2406 - val_accuracy: 0.8984\n",
            "Epoch 19/20\n",
            "55/55 [==============================] - 358s 7s/step - loss: 0.1998 - accuracy: 0.9324 - val_loss: 0.2609 - val_accuracy: 0.8845\n",
            "Epoch 20/20\n",
            "55/55 [==============================] - 369s 7s/step - loss: 0.2482 - accuracy: 0.9099 - val_loss: 0.3345 - val_accuracy: 0.9099\n"
          ]
        }
      ],
      "source": [
        "history = model.fit(\n",
        "            X_train,\n",
        "            y_train_vgg16,\n",
        "            epochs=20,\n",
        "            verbose=1,\n",
        "            validation_split= 0.2,\n",
        "            callbacks = [checkpointer])"
      ]
    },
    {
      "cell_type": "code",
      "execution_count": null,
      "metadata": {
        "colab": {
          "background_save": true
        },
        "id": "MvDaYeIwVJDB",
        "outputId": "b244bd13-04d9-4a9b-d324-a245b690d710"
      },
      "outputs": [
        {
          "name": "stdout",
          "output_type": "stream",
          "text": [
            "68/68 [==============================] - 68s 1s/step - loss: 0.2778 - accuracy: 0.9196\n",
            "Final Train accuracy = 91.96304678916931%\n",
            "17/17 [==============================] - 17s 1s/step - loss: 0.3078 - accuracy: 0.9096\n",
            "Validation accuracy = 90.95941185951233%\n"
          ]
        }
      ],
      "source": [
        "print(f\"Final Train accuracy = {model.evaluate(X_train,y_train_vgg16)[1]*100}%\")\n",
        "print(f\"Validation accuracy = {model.evaluate(X_test,y_test_vgg16)[1]*100}%\")"
      ]
    },
    {
      "cell_type": "code",
      "execution_count": null,
      "metadata": {
        "colab": {
          "background_save": true
        },
        "id": "5fAUYvhxVVmE",
        "outputId": "48c7889e-ba6b-4c74-e81e-20902dc84be3"
      },
      "outputs": [
        {
          "data": {
            "image/png": "[encoded data removed]",
            "text/plain": [
              "<Figure size 432x288 with 2 Axes>"
            ]
          },
          "metadata": {},
          "output_type": "display_data"
        }
      ],
      "source": [
        "from sklearn.metrics import ConfusionMatrixDisplay\n",
        "from sklearn.metrics import confusion_matrix\n",
        "prediction = model.predict(X_test)\n",
        "cm = confusion_matrix(y_test_vgg16.argmax(axis=1), prediction.argmax(axis=1))\n",
        "labels = [\"Normal\",\"Pneumonia\",\"Tuberculosis\"]\n",
        "disp = ConfusionMatrixDisplay(confusion_matrix=cm, display_labels=labels)\n",
        "disp.plot(cmap=plt.cm.Blues)\n",
        "plt.show()"
      ]
    },
    {
      "cell_type": "code",
      "execution_count": null,
      "metadata": {
        "colab": {
          "background_save": true
        },
        "id": "CkZ4jL4vscQz"
      },
      "outputs": [],
      "source": [
        "import tensorflow as tf\n",
        "from keras.models import load_model\n",
        "model.save('vgg16isbest1997.h5')"
      ]
    },
    {
      "cell_type": "code",
      "execution_count": null,
      "metadata": {
        "colab": {
          "background_save": true
        },
        "id": "GwNZOUD9mocO",
        "outputId": "2729d579-e859-489f-b73e-f4331592c5c8"
      },
      "outputs": [
        {
          "data": {
            "image/png": "[encoded data removed]",
            "text/plain": [
              "<Figure size 640x480 with 1 Axes>"
            ]
          },
          "metadata": {},
          "output_type": "display_data"
        }
      ],
      "source": [
        "training_loss = history.history['loss']\n",
        "val_loss = history.history['val_loss']\n",
        "plt.rcParams['figure.figsize'] = [10, 5]\n",
        "plt.style.use(['default'])\n",
        "# Create count of the number of epochs\n",
        "epoch_count = range(1, len(training_loss) + 1)\n",
        "\n",
        "# Visualize loss history\n",
        "plt.plot(epoch_count, training_loss, 'r--')\n",
        "plt.plot(epoch_count, val_loss, 'b-')\n",
        "plt.legend(['Training Loss', 'Val Loss'])\n",
        "plt.xlabel('Epoch')\n",
        "plt.ylabel('Loss')\n",
        "plt.show()"
      ]
    },
    {
      "cell_type": "code",
      "execution_count": null,
      "metadata": {
        "colab": {
          "background_save": true
        },
        "id": "i7dA8oSQmonk",
        "outputId": "02f1825c-4747-4308-9393-0d7cf93f5980"
      },
      "outputs": [
        {
          "data": {
            "image/png": "[encoded data removed]",
            "text/plain": [
              "<Figure size 640x480 with 1 Axes>"
            ]
          },
          "metadata": {},
          "output_type": "display_data"
        }
      ],
      "source": [
        "training_accuracy = history.history['accuracy']\n",
        "val_accuracy = history.history['val_accuracy']\n",
        "\n",
        "# Create count of the number of epochs\n",
        "epoch_count = range(1, len(training_accuracy) + 1)\n",
        "\n",
        "# Visualize loss history\n",
        "\n",
        "plt.plot(epoch_count, training_accuracy, 'r--')\n",
        "plt.plot(epoch_count, val_accuracy, 'b-')\n",
        "plt.legend(['Training Accuracy', 'Val Accuracy'])\n",
        "plt.xlabel('Epoch')\n",
        "plt.ylabel('Accuracy')\n",
        "plt.ylim(top = 1)\n",
        "plt.show()"
      ]
    },
    {
      "cell_type": "code",
      "execution_count": null,
      "metadata": {
        "id": "_65tSsxVw06c"
      },
      "outputs": [],
      "source": [
        "from keras.models import load_model\n",
        "from keras.preprocessing import image\n",
        "from keras.applications.vgg16 import preprocess_input\n",
        "import numpy as np\n",
        "from keras.models import load_model\n",
        "import cv2"
      ]
    },
    {
      "cell_type": "code",
      "execution_count": null,
      "metadata": {
        "id": "AZHE_IsaxT1E"
      },
      "outputs": [],
      "source": [
        "model=load_model('/content/vgg16isbest1997.h5')"
      ]
    },
    {
      "cell_type": "code",
      "execution_count": null,
      "metadata": {
        "id": "1NJr25Hd4kzH"
      },
      "outputs": [],
      "source": [
        "img_path=image.load_img('/content/drive/MyDrive/cleandata/val/TURBERCULOSIS/Tuberculosis-651.png',target_size=(224,224))\n",
        "\n",
        "\n",
        "\n",
        "\n"
      ]
    },
    {
      "cell_type": "code",
      "source": [
        "#from matplotlib import imread\n",
        "img_path='/content/drive/MyDrive/cleandata/val/NORMAL/NORMAL2-IM-1438-0001.jpeg'\n",
        "img = image.load_img(img_path, target_size=(224,224))\n",
        "x=image.img_to_array(img)\n",
        "x=np.expand_dims(x, axis=0)\n",
        "x=preprocess_input(x)\n",
        "print('input image shape: ', x.shape)\n",
        "print(model.predict(x))\n"
      ],
      "metadata": {
        "colab": {
          "base_uri": "https://localhost:8080/"
        },
        "id": "dsxM77RIg_lB",
        "outputId": "0332689a-0764-4d5a-ebee-f2aa32a7fe27"
      },
      "execution_count": null,
      "outputs": [
        {
          "output_type": "stream",
          "name": "stdout",
          "text": [
            "input image shape:  (1, 224, 224, 3)\n",
            "[[5.0770800e-16 2.0241153e-09 1.0000000e+00]]\n"
          ]
        }
      ]
    },
    {
      "cell_type": "code",
      "source": [
        "x=image.img_to_array(img)\n",
        "x=np.expand_dims(x, axis=0)\n",
        "img_data=preprocess_input(x)\n",
        "classes=model.predict(img_data)\n"
      ],
      "metadata": {
        "id": "USEjIjaCiQwe"
      },
      "execution_count": null,
      "outputs": []
    },
    {
      "cell_type": "code",
      "source": [
        "result=int(classes[0][1])"
      ],
      "metadata": {
        "id": "cOCsfTmoi6Yp"
      },
      "execution_count": null,
      "outputs": []
    },
    {
      "cell_type": "code",
      "source": [
        "if result==0:\n",
        "  print(\"Healthy\")\n",
        "elif result==1:\n",
        "  print(\"Pneumonia\")\n",
        "else:\n",
        "  print(\"Tuberculosis\")"
      ],
      "metadata": {
        "colab": {
          "base_uri": "https://localhost:8080/"
        },
        "id": "AT6C-vcri8J4",
        "outputId": "b8f9e7d0-705c-4251-ce3e-205e66459967"
      },
      "execution_count": null,
      "outputs": [
        {
          "output_type": "stream",
          "name": "stdout",
          "text": [
            "Healthy\n"
          ]
        }
      ]
    }
  ],
  "metadata": {
    "accelerator": "TPU",
    "colab": {
      "background_execution": "on",
      "collapsed_sections": [],
      "machine_shape": "hm",
      "provenance": [],
      "authorship_tag": "ABX9TyOn+TB4lDVRAuEwYLKrfoCx"
    },
    "gpuClass": "standard",
    "kernelspec": {
      "display_name": "Python 3",
      "name": "python3"
    },
    "language_info": {
      "name": "python"
    }
  },
  "nbformat": 4,
  "nbformat_minor": 0
}